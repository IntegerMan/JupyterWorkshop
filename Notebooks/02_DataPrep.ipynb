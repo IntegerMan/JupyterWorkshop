{
 "cells": [
  {
   "cell_type": "markdown",
   "metadata": {},
   "source": [
    "# Data Prep\n",
    "This notebook is designed to get the 3 large datasets small enough to live in a git repository without needing git LFS.\n",
    "\n",
    "**IF YOU ARE FOLLOWING ALONG, YOU DON'T NEED TO RUN THIS. THIS IS WHAT PRODUCES THE DATA IN THE `/Data` DIRECTORY**\n",
    "\n",
    "The approach taken is to omit any data that did not occur in 2018 from the data files. 2018 was chosen to be after the addition of the Golden Knights and during a time in which we had `game_penalties.csv` data for that year (2018 is the last year of availability for that and Vegas came about in 2017)"
   ]
  },
  {
   "cell_type": "markdown",
   "metadata": {},
   "source": [
    "## Download Data for Prep\n",
    "We want to start with the full dataset which I've zipped up and stored in Azure Blob Storage."
   ]
  },
  {
   "cell_type": "code",
   "execution_count": 20,
   "metadata": {},
   "outputs": [],
   "source": [
    "import os\n",
    "\n",
    "extract_directory = \"../DataPrep\"\n",
    "\n",
    "# ensure the extract directory exists\n",
    "if not os.path.exists(extract_directory):\n",
    "    os.makedirs(extract_directory)"
   ]
  },
  {
   "cell_type": "code",
   "execution_count": 21,
   "metadata": {},
   "outputs": [
    {
     "name": "stdout",
     "output_type": "stream",
     "text": [
      "Downloading data file...\n",
      "Saving data zip file...\n",
      "Downloaded complete.\n"
     ]
    }
   ],
   "source": [
    "import requests\n",
    "\n",
    "# Download the zip file\n",
    "url = \"https://longtermpublic.blob.core.windows.net/data/NHLData.zip\"\n",
    "print(\"Downloading data file...\")\n",
    "response = requests.get(url)\n",
    "\n",
    "# Save the zip file\n",
    "print(\"Saving data zip file...\")\n",
    "zip_file_path = extract_directory + \"/NHLData.zip\"\n",
    "with open(zip_file_path, \"wb\") as file:\n",
    "    file.write(response.content)\n",
    "\n",
    "print(\"Downloaded complete.\")"
   ]
  },
  {
   "cell_type": "code",
   "execution_count": 22,
   "metadata": {},
   "outputs": [
    {
     "name": "stdout",
     "output_type": "stream",
     "text": [
      "Extracting data files...\n",
      "Done extracting files\n"
     ]
    }
   ],
   "source": [
    "import zipfile\n",
    "\n",
    "print('Extracting data files...')\n",
    "\n",
    "with zipfile.ZipFile(zip_file_path, 'r') as zip_ref:\n",
    "    zip_ref.extractall(extract_directory)\n",
    "\n",
    "print('Done extracting files')"
   ]
  },
  {
   "cell_type": "markdown",
   "metadata": {},
   "source": [
    "## Data Downsizing"
   ]
  },
  {
   "cell_type": "code",
   "execution_count": 23,
   "metadata": {},
   "outputs": [],
   "source": [
    "import pandas as pd\n",
    "import numpy as np\n",
    "\n",
    "data_directory = '../Data'\n",
    "year = 2018"
   ]
  },
  {
   "cell_type": "code",
   "execution_count": 24,
   "metadata": {},
   "outputs": [],
   "source": [
    "# Lets start with game since it has the date\n",
    "dfGame = pd.read_csv(extract_directory + \"/game.csv\")\n",
    "\n",
    "# Add a year column\n",
    "dfGame['date_time_GMT'] = pd.to_datetime(dfGame['date_time_GMT'])\n",
    "dfGame['year'] = dfGame['date_time_GMT'].dt.year\n",
    "\n",
    "dfGame = dfGame[dfGame['year'] == year]\n",
    "\n",
    "# Save the game data\n",
    "dfGame.to_csv(data_directory + \"/game.csv\", index=False)"
   ]
  },
  {
   "cell_type": "code",
   "execution_count": 25,
   "metadata": {},
   "outputs": [],
   "source": [
    "# Let's go to game_plays next since it's the largest\n",
    "dfGamePlays = pd.read_csv(extract_directory + \"/game_plays.csv\")\n",
    "dfGamePlays['year'] = dfGamePlays['game_id'].astype(str).str[:4].astype(int)\n",
    "dfGamePlays = dfGamePlays[dfGamePlays['year'] == year]\n",
    "dfGamePlays.drop(columns=['year'], inplace=True)\n",
    "dfGamePlays.to_csv(data_directory + \"/game_plays.csv\", index=False)"
   ]
  },
  {
   "cell_type": "code",
   "execution_count": 26,
   "metadata": {},
   "outputs": [],
   "source": [
    "# Now we'll hit game_shifts\n",
    "dfGameShifts = pd.read_csv(extract_directory + \"/game_shifts.csv\")\n",
    "dfGameShifts['year'] = dfGameShifts['game_id'].astype(str).str[:4].astype(int)\n",
    "dfGameShifts = dfGameShifts[dfGameShifts['year'] == year]\n",
    "dfGameShifts.drop(columns=['year'], inplace=True)\n",
    "dfGameShifts.to_csv(data_directory + \"/game_shifts.csv\", index=False)"
   ]
  },
  {
   "cell_type": "code",
   "execution_count": 27,
   "metadata": {},
   "outputs": [],
   "source": [
    "# Next game plays players\n",
    "dfGamePlaysPlayers = pd.read_csv(extract_directory + \"/game_plays_players.csv\")\n",
    "dfGamePlaysPlayers['year'] = dfGamePlaysPlayers['game_id'].astype(str).str[:4].astype(int)\n",
    "dfGamePlaysPlayers = dfGamePlaysPlayers[dfGamePlaysPlayers['year'] == year]\n",
    "dfGamePlaysPlayers.drop(columns=['year'], inplace=True)\n",
    "\n",
    "dfGamePlaysPlayers.to_csv(data_directory + \"/game_plays_players.csv\", index=False)"
   ]
  },
  {
   "cell_type": "code",
   "execution_count": 28,
   "metadata": {},
   "outputs": [],
   "source": [
    "# Game Skater Stats\n",
    "dfGameSkaterStats = pd.read_csv(extract_directory + \"/game_skater_stats.csv\")\n",
    "dfGameSkaterStats['year'] = dfGameSkaterStats['game_id'].astype(str).str[:4].astype(int)\n",
    "dfGameSkaterStats = dfGameSkaterStats[dfGameSkaterStats['year'] == year]\n",
    "dfGameSkaterStats.drop(columns=['year'], inplace=True)\n",
    "dfGameSkaterStats.to_csv(data_directory + \"/game_skater_stats.csv\", index=False)"
   ]
  },
  {
   "cell_type": "code",
   "execution_count": 29,
   "metadata": {},
   "outputs": [],
   "source": [
    "# Game penalties\n",
    "dfGamePenalties = pd.read_csv(extract_directory + \"/game_penalties.csv\")\n",
    "dfGamePenalties['year'] = dfGamePenalties['play_id'].astype(str).str[:4].astype(int)\n",
    "dfGamePenalties = dfGamePenalties[dfGamePenalties['year'] == year]\n",
    "dfGamePenalties.drop(columns=['year'], inplace=True)\n",
    "dfGamePenalties.to_csv(data_directory + \"/game_penalties.csv\", index=False)"
   ]
  },
  {
   "cell_type": "code",
   "execution_count": 30,
   "metadata": {},
   "outputs": [
    {
     "name": "stderr",
     "output_type": "stream",
     "text": [
      "/tmp/ipykernel_256334/3570447446.py:2: DtypeWarning: Columns (2) have mixed types. Specify dtype option on import or set low_memory=False.\n",
      "  dfGameGoals = pd.read_csv(extract_directory + \"/game_goals.csv\")\n"
     ]
    }
   ],
   "source": [
    "# Game goals\n",
    "dfGameGoals = pd.read_csv(extract_directory + \"/game_goals.csv\")\n",
    "dfGameGoals['year'] = dfGameGoals['play_id'].astype(str).str[:4].astype(int)\n",
    "dfGameGoals = dfGameGoals[dfGameGoals['year'] == year]\n",
    "dfGameGoals.drop(columns=['year'], inplace=True)\n",
    "dfGameGoals.to_csv(data_directory + \"/game_goals.csv\", index=False)"
   ]
  },
  {
   "cell_type": "code",
   "execution_count": 31,
   "metadata": {},
   "outputs": [],
   "source": [
    "# Game Scratches\n",
    "dfGameScratches = pd.read_csv(extract_directory + \"/game_scratches.csv\")\n",
    "dfGameScratches['year'] = dfGameScratches['game_id'].astype(str).str[:4].astype(int)\n",
    "dfGameScratches = dfGameScratches[dfGameScratches['year'] == year]\n",
    "dfGameScratches.drop(columns=['year'], inplace=True)\n",
    "dfGameScratches.to_csv(data_directory + \"/game_scratches.csv\", index=False)"
   ]
  },
  {
   "cell_type": "code",
   "execution_count": 32,
   "metadata": {},
   "outputs": [],
   "source": [
    "# Player Info\n",
    "dfPlayerInfo = pd.read_csv(extract_directory + \"/player_info.csv\")\n",
    "dfPlayerInfo.to_csv(data_directory + \"/player_info.csv\", index=False)"
   ]
  },
  {
   "cell_type": "code",
   "execution_count": 33,
   "metadata": {},
   "outputs": [],
   "source": [
    "# Team Info\n",
    "dfTeamInfo = pd.read_csv(extract_directory + \"/team_info.csv\")\n",
    "dfTeamInfo.to_csv(data_directory + \"/team_info.csv\", index=False)"
   ]
  },
  {
   "cell_type": "code",
   "execution_count": 34,
   "metadata": {},
   "outputs": [],
   "source": [
    "# Game Officials\n",
    "dfGameOfficials = pd.read_csv(extract_directory + \"/game_officials.csv\")\n",
    "dfGameOfficials['year'] = dfGameOfficials['game_id'].astype(str).str[:4].astype(int)\n",
    "dfGameOfficials = dfGameOfficials[dfGameOfficials['year'] == year]\n",
    "dfGameOfficials.drop(columns=['year'], inplace=True)\n",
    "dfGameOfficials.to_csv(data_directory + \"/game_officials.csv\", index=False)"
   ]
  },
  {
   "cell_type": "code",
   "execution_count": 35,
   "metadata": {},
   "outputs": [],
   "source": [
    "# Game Team Stats\n",
    "dfGameTeamStats = pd.read_csv(extract_directory + \"/game_teams_stats.csv\")\n",
    "dfGameTeamStats['year'] = dfGameTeamStats['game_id'].astype(str).str[:4].astype(int)\n",
    "dfGameTeamStats = dfGameTeamStats[dfGameTeamStats['year'] == year]\n",
    "dfGameTeamStats.drop(columns=['year'], inplace=True)\n",
    "dfGameTeamStats.to_csv(data_directory + \"/game_teams_stats.csv\", index=False)"
   ]
  },
  {
   "cell_type": "code",
   "execution_count": 36,
   "metadata": {},
   "outputs": [],
   "source": [
    "# Game Goalie Stats\n",
    "dfGameGoalieStats = pd.read_csv(extract_directory + \"/game_goalie_stats.csv\")\n",
    "dfGameGoalieStats['year'] = dfGameGoalieStats['game_id'].astype(str).str[:4].astype(int)\n",
    "dfGameGoalieStats = dfGameGoalieStats[dfGameGoalieStats['year'] == year]\n",
    "dfGameGoalieStats.drop(columns=['year'], inplace=True)\n",
    "dfGameGoalieStats.to_csv(data_directory + \"/game_goalie_stats.csv\", index=False)"
   ]
  },
  {
   "cell_type": "code",
   "execution_count": 37,
   "metadata": {},
   "outputs": [],
   "source": [
    "# Game Skater Stats\n",
    "dfGameSkaterStats = pd.read_csv(extract_directory + \"/game_skater_stats.csv\")\n",
    "dfGameSkaterStats['year'] = dfGameSkaterStats['game_id'].astype(str).str[:4].astype(int)\n",
    "dfGameSkaterStats = dfGameSkaterStats[dfGameSkaterStats['year'] == year]\n",
    "dfGameSkaterStats.drop(columns=['year'], inplace=True)\n",
    "dfGameSkaterStats.to_csv(data_directory + \"/game_skater_stats.csv\", index=False)"
   ]
  }
 ],
 "metadata": {
  "kernelspec": {
   "display_name": "base",
   "language": "python",
   "name": "python3"
  },
  "language_info": {
   "codemirror_mode": {
    "name": "ipython",
    "version": 3
   },
   "file_extension": ".py",
   "mimetype": "text/x-python",
   "name": "python",
   "nbconvert_exporter": "python",
   "pygments_lexer": "ipython3",
   "version": "3.11.7"
  }
 },
 "nbformat": 4,
 "nbformat_minor": 2
}
