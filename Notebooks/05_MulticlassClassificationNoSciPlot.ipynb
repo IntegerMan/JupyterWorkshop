{
 "cells": [
  {
   "cell_type": "markdown",
   "metadata": {},
   "source": [
    "# Multi-class classification\n",
    "This notebook introduces machine learning by performing a classification experiment"
   ]
  },
  {
   "cell_type": "code",
   "execution_count": 2,
   "metadata": {},
   "outputs": [
    {
     "data": {
      "text/html": [
       "<div>\n",
       "<style scoped>\n",
       "    .dataframe tbody tr th:only-of-type {\n",
       "        vertical-align: middle;\n",
       "    }\n",
       "\n",
       "    .dataframe tbody tr th {\n",
       "        vertical-align: top;\n",
       "    }\n",
       "\n",
       "    .dataframe thead th {\n",
       "        text-align: right;\n",
       "    }\n",
       "</style>\n",
       "<table border=\"1\" class=\"dataframe\">\n",
       "  <thead>\n",
       "    <tr style=\"text-align: right;\">\n",
       "      <th></th>\n",
       "      <th>player_id</th>\n",
       "      <th>firstName</th>\n",
       "      <th>lastName</th>\n",
       "      <th>nationality</th>\n",
       "      <th>birthCity</th>\n",
       "      <th>primaryPosition</th>\n",
       "      <th>birthDate</th>\n",
       "      <th>birthStateProvince</th>\n",
       "      <th>height</th>\n",
       "      <th>height_cm</th>\n",
       "      <th>weight</th>\n",
       "      <th>shootsCatches</th>\n",
       "    </tr>\n",
       "  </thead>\n",
       "  <tbody>\n",
       "    <tr>\n",
       "      <th>0</th>\n",
       "      <td>8466148</td>\n",
       "      <td>Marian</td>\n",
       "      <td>Hossa</td>\n",
       "      <td>SVK</td>\n",
       "      <td>Stará Lubovna</td>\n",
       "      <td>RW</td>\n",
       "      <td>1979-01-12 00:00:00</td>\n",
       "      <td>NaN</td>\n",
       "      <td>6' 1\"</td>\n",
       "      <td>185.42</td>\n",
       "      <td>207.0</td>\n",
       "      <td>L</td>\n",
       "    </tr>\n",
       "    <tr>\n",
       "      <th>1</th>\n",
       "      <td>8465058</td>\n",
       "      <td>Michal</td>\n",
       "      <td>Rozsival</td>\n",
       "      <td>CZE</td>\n",
       "      <td>Vlasim</td>\n",
       "      <td>D</td>\n",
       "      <td>1978-09-03 01:00:00</td>\n",
       "      <td>NaN</td>\n",
       "      <td>6' 1\"</td>\n",
       "      <td>185.42</td>\n",
       "      <td>210.0</td>\n",
       "      <td>R</td>\n",
       "    </tr>\n",
       "    <tr>\n",
       "      <th>2</th>\n",
       "      <td>8476906</td>\n",
       "      <td>Shayne</td>\n",
       "      <td>Gostisbehere</td>\n",
       "      <td>USA</td>\n",
       "      <td>Pembroke Pines</td>\n",
       "      <td>D</td>\n",
       "      <td>1993-04-20 01:00:00</td>\n",
       "      <td>FL</td>\n",
       "      <td>5' 11\"</td>\n",
       "      <td>180.34</td>\n",
       "      <td>180.0</td>\n",
       "      <td>L</td>\n",
       "    </tr>\n",
       "    <tr>\n",
       "      <th>3</th>\n",
       "      <td>8466285</td>\n",
       "      <td>Brian</td>\n",
       "      <td>Campbell</td>\n",
       "      <td>CAN</td>\n",
       "      <td>Strathroy</td>\n",
       "      <td>D</td>\n",
       "      <td>1979-05-23 01:00:00</td>\n",
       "      <td>ON</td>\n",
       "      <td>5' 10\"</td>\n",
       "      <td>177.80</td>\n",
       "      <td>192.0</td>\n",
       "      <td>L</td>\n",
       "    </tr>\n",
       "    <tr>\n",
       "      <th>4</th>\n",
       "      <td>8470607</td>\n",
       "      <td>Brent</td>\n",
       "      <td>Seabrook</td>\n",
       "      <td>CAN</td>\n",
       "      <td>Richmond</td>\n",
       "      <td>D</td>\n",
       "      <td>1985-04-20 01:00:00</td>\n",
       "      <td>BC</td>\n",
       "      <td>6' 3\"</td>\n",
       "      <td>190.50</td>\n",
       "      <td>220.0</td>\n",
       "      <td>R</td>\n",
       "    </tr>\n",
       "  </tbody>\n",
       "</table>\n",
       "</div>"
      ],
      "text/plain": [
       "   player_id firstName      lastName nationality       birthCity  \\\n",
       "0    8466148    Marian         Hossa         SVK   Stará Lubovna   \n",
       "1    8465058    Michal      Rozsival         CZE          Vlasim   \n",
       "2    8476906    Shayne  Gostisbehere         USA  Pembroke Pines   \n",
       "3    8466285     Brian      Campbell         CAN       Strathroy   \n",
       "4    8470607     Brent      Seabrook         CAN        Richmond   \n",
       "\n",
       "  primaryPosition            birthDate birthStateProvince  height  height_cm  \\\n",
       "0              RW  1979-01-12 00:00:00                NaN   6' 1\"     185.42   \n",
       "1               D  1978-09-03 01:00:00                NaN   6' 1\"     185.42   \n",
       "2               D  1993-04-20 01:00:00                 FL  5' 11\"     180.34   \n",
       "3               D  1979-05-23 01:00:00                 ON  5' 10\"     177.80   \n",
       "4               D  1985-04-20 01:00:00                 BC   6' 3\"     190.50   \n",
       "\n",
       "   weight shootsCatches  \n",
       "0   207.0             L  \n",
       "1   210.0             R  \n",
       "2   180.0             L  \n",
       "3   192.0             L  \n",
       "4   220.0             R  "
      ]
     },
     "execution_count": 2,
     "metadata": {},
     "output_type": "execute_result"
    }
   ],
   "source": [
    "import pandas as pd\n",
    "import numpy as np\n",
    "\n",
    "dfPlayers = pd.read_csv('../Data/player_info.csv')\n",
    "dfPlayers.head()"
   ]
  },
  {
   "cell_type": "code",
   "execution_count": 3,
   "metadata": {},
   "outputs": [
    {
     "data": {
      "text/html": [
       "<div>\n",
       "<style scoped>\n",
       "    .dataframe tbody tr th:only-of-type {\n",
       "        vertical-align: middle;\n",
       "    }\n",
       "\n",
       "    .dataframe tbody tr th {\n",
       "        vertical-align: top;\n",
       "    }\n",
       "\n",
       "    .dataframe thead th {\n",
       "        text-align: right;\n",
       "    }\n",
       "</style>\n",
       "<table border=\"1\" class=\"dataframe\">\n",
       "  <thead>\n",
       "    <tr style=\"text-align: right;\">\n",
       "      <th></th>\n",
       "      <th>game_id</th>\n",
       "      <th>player_id</th>\n",
       "      <th>team_id</th>\n",
       "      <th>timeOnIce</th>\n",
       "      <th>assists</th>\n",
       "      <th>goals</th>\n",
       "      <th>shots</th>\n",
       "      <th>hits</th>\n",
       "      <th>powerPlayGoals</th>\n",
       "      <th>powerPlayAssists</th>\n",
       "      <th>...</th>\n",
       "      <th>faceoffTaken</th>\n",
       "      <th>takeaways</th>\n",
       "      <th>giveaways</th>\n",
       "      <th>shortHandedGoals</th>\n",
       "      <th>shortHandedAssists</th>\n",
       "      <th>blocked</th>\n",
       "      <th>plusMinus</th>\n",
       "      <th>evenTimeOnIce</th>\n",
       "      <th>shortHandedTimeOnIce</th>\n",
       "      <th>powerPlayTimeOnIce</th>\n",
       "    </tr>\n",
       "  </thead>\n",
       "  <tbody>\n",
       "    <tr>\n",
       "      <th>0</th>\n",
       "      <td>2018020001</td>\n",
       "      <td>8473507</td>\n",
       "      <td>8</td>\n",
       "      <td>1437</td>\n",
       "      <td>0</td>\n",
       "      <td>0</td>\n",
       "      <td>3</td>\n",
       "      <td>3.0</td>\n",
       "      <td>0</td>\n",
       "      <td>0</td>\n",
       "      <td>...</td>\n",
       "      <td>0</td>\n",
       "      <td>2.0</td>\n",
       "      <td>1.0</td>\n",
       "      <td>0</td>\n",
       "      <td>0</td>\n",
       "      <td>1.0</td>\n",
       "      <td>-1</td>\n",
       "      <td>1105</td>\n",
       "      <td>82</td>\n",
       "      <td>250</td>\n",
       "    </tr>\n",
       "    <tr>\n",
       "      <th>1</th>\n",
       "      <td>2018020001</td>\n",
       "      <td>8474818</td>\n",
       "      <td>8</td>\n",
       "      <td>893</td>\n",
       "      <td>0</td>\n",
       "      <td>0</td>\n",
       "      <td>1</td>\n",
       "      <td>3.0</td>\n",
       "      <td>0</td>\n",
       "      <td>0</td>\n",
       "      <td>...</td>\n",
       "      <td>0</td>\n",
       "      <td>0.0</td>\n",
       "      <td>0.0</td>\n",
       "      <td>0</td>\n",
       "      <td>0</td>\n",
       "      <td>1.0</td>\n",
       "      <td>0</td>\n",
       "      <td>806</td>\n",
       "      <td>87</td>\n",
       "      <td>0</td>\n",
       "    </tr>\n",
       "    <tr>\n",
       "      <th>2</th>\n",
       "      <td>2018020001</td>\n",
       "      <td>8480829</td>\n",
       "      <td>8</td>\n",
       "      <td>905</td>\n",
       "      <td>1</td>\n",
       "      <td>0</td>\n",
       "      <td>2</td>\n",
       "      <td>0.0</td>\n",
       "      <td>0</td>\n",
       "      <td>1</td>\n",
       "      <td>...</td>\n",
       "      <td>7</td>\n",
       "      <td>0.0</td>\n",
       "      <td>0.0</td>\n",
       "      <td>0</td>\n",
       "      <td>0</td>\n",
       "      <td>0.0</td>\n",
       "      <td>0</td>\n",
       "      <td>753</td>\n",
       "      <td>0</td>\n",
       "      <td>152</td>\n",
       "    </tr>\n",
       "    <tr>\n",
       "      <th>3</th>\n",
       "      <td>2018020001</td>\n",
       "      <td>8474038</td>\n",
       "      <td>8</td>\n",
       "      <td>883</td>\n",
       "      <td>1</td>\n",
       "      <td>0</td>\n",
       "      <td>2</td>\n",
       "      <td>3.0</td>\n",
       "      <td>0</td>\n",
       "      <td>0</td>\n",
       "      <td>...</td>\n",
       "      <td>1</td>\n",
       "      <td>0.0</td>\n",
       "      <td>0.0</td>\n",
       "      <td>0</td>\n",
       "      <td>0</td>\n",
       "      <td>1.0</td>\n",
       "      <td>1</td>\n",
       "      <td>788</td>\n",
       "      <td>65</td>\n",
       "      <td>30</td>\n",
       "    </tr>\n",
       "    <tr>\n",
       "      <th>4</th>\n",
       "      <td>2018020001</td>\n",
       "      <td>8475848</td>\n",
       "      <td>8</td>\n",
       "      <td>982</td>\n",
       "      <td>0</td>\n",
       "      <td>0</td>\n",
       "      <td>5</td>\n",
       "      <td>1.0</td>\n",
       "      <td>0</td>\n",
       "      <td>0</td>\n",
       "      <td>...</td>\n",
       "      <td>4</td>\n",
       "      <td>0.0</td>\n",
       "      <td>1.0</td>\n",
       "      <td>0</td>\n",
       "      <td>0</td>\n",
       "      <td>1.0</td>\n",
       "      <td>0</td>\n",
       "      <td>763</td>\n",
       "      <td>0</td>\n",
       "      <td>219</td>\n",
       "    </tr>\n",
       "  </tbody>\n",
       "</table>\n",
       "<p>5 rows × 22 columns</p>\n",
       "</div>"
      ],
      "text/plain": [
       "      game_id  player_id  team_id  timeOnIce  assists  goals  shots  hits  \\\n",
       "0  2018020001    8473507        8       1437        0      0      3   3.0   \n",
       "1  2018020001    8474818        8        893        0      0      1   3.0   \n",
       "2  2018020001    8480829        8        905        1      0      2   0.0   \n",
       "3  2018020001    8474038        8        883        1      0      2   3.0   \n",
       "4  2018020001    8475848        8        982        0      0      5   1.0   \n",
       "\n",
       "   powerPlayGoals  powerPlayAssists  ...  faceoffTaken  takeaways  giveaways  \\\n",
       "0               0                 0  ...             0        2.0        1.0   \n",
       "1               0                 0  ...             0        0.0        0.0   \n",
       "2               0                 1  ...             7        0.0        0.0   \n",
       "3               0                 0  ...             1        0.0        0.0   \n",
       "4               0                 0  ...             4        0.0        1.0   \n",
       "\n",
       "   shortHandedGoals  shortHandedAssists  blocked  plusMinus  evenTimeOnIce  \\\n",
       "0                 0                   0      1.0         -1           1105   \n",
       "1                 0                   0      1.0          0            806   \n",
       "2                 0                   0      0.0          0            753   \n",
       "3                 0                   0      1.0          1            788   \n",
       "4                 0                   0      1.0          0            763   \n",
       "\n",
       "   shortHandedTimeOnIce  powerPlayTimeOnIce  \n",
       "0                    82                 250  \n",
       "1                    87                   0  \n",
       "2                     0                 152  \n",
       "3                    65                  30  \n",
       "4                     0                 219  \n",
       "\n",
       "[5 rows x 22 columns]"
      ]
     },
     "execution_count": 3,
     "metadata": {},
     "output_type": "execute_result"
    }
   ],
   "source": [
    "dfSkaterStats = pd.read_csv('../Data/game_skater_stats.csv')\n",
    "dfSkaterStats.head()"
   ]
  },
  {
   "cell_type": "code",
   "execution_count": 4,
   "metadata": {},
   "outputs": [
    {
     "data": {
      "text/html": [
       "<div>\n",
       "<style scoped>\n",
       "    .dataframe tbody tr th:only-of-type {\n",
       "        vertical-align: middle;\n",
       "    }\n",
       "\n",
       "    .dataframe tbody tr th {\n",
       "        vertical-align: top;\n",
       "    }\n",
       "\n",
       "    .dataframe thead th {\n",
       "        text-align: right;\n",
       "    }\n",
       "</style>\n",
       "<table border=\"1\" class=\"dataframe\">\n",
       "  <thead>\n",
       "    <tr style=\"text-align: right;\">\n",
       "      <th></th>\n",
       "      <th>timeOnIce</th>\n",
       "      <th>assists</th>\n",
       "      <th>goals</th>\n",
       "      <th>shots</th>\n",
       "      <th>hits</th>\n",
       "      <th>powerPlayGoals</th>\n",
       "      <th>powerPlayAssists</th>\n",
       "      <th>penaltyMinutes</th>\n",
       "      <th>faceOffWins</th>\n",
       "      <th>faceoffTaken</th>\n",
       "      <th>takeaways</th>\n",
       "      <th>giveaways</th>\n",
       "      <th>shortHandedGoals</th>\n",
       "      <th>shortHandedAssists</th>\n",
       "      <th>blocked</th>\n",
       "      <th>plusMinus</th>\n",
       "      <th>evenTimeOnIce</th>\n",
       "      <th>shortHandedTimeOnIce</th>\n",
       "      <th>powerPlayTimeOnIce</th>\n",
       "    </tr>\n",
       "    <tr>\n",
       "      <th>player_id</th>\n",
       "      <th></th>\n",
       "      <th></th>\n",
       "      <th></th>\n",
       "      <th></th>\n",
       "      <th></th>\n",
       "      <th></th>\n",
       "      <th></th>\n",
       "      <th></th>\n",
       "      <th></th>\n",
       "      <th></th>\n",
       "      <th></th>\n",
       "      <th></th>\n",
       "      <th></th>\n",
       "      <th></th>\n",
       "      <th></th>\n",
       "      <th></th>\n",
       "      <th></th>\n",
       "      <th></th>\n",
       "      <th></th>\n",
       "    </tr>\n",
       "  </thead>\n",
       "  <tbody>\n",
       "    <tr>\n",
       "      <th>8464989</th>\n",
       "      <td>689.586667</td>\n",
       "      <td>0.173333</td>\n",
       "      <td>0.093333</td>\n",
       "      <td>1.200000</td>\n",
       "      <td>0.506667</td>\n",
       "      <td>0.000000</td>\n",
       "      <td>0.000000</td>\n",
       "      <td>0.186667</td>\n",
       "      <td>4.546667</td>\n",
       "      <td>9.040000</td>\n",
       "      <td>0.320000</td>\n",
       "      <td>0.333333</td>\n",
       "      <td>0.026667</td>\n",
       "      <td>0.026667</td>\n",
       "      <td>0.440000</td>\n",
       "      <td>0.066667</td>\n",
       "      <td>551.653333</td>\n",
       "      <td>135.266667</td>\n",
       "      <td>2.666667</td>\n",
       "    </tr>\n",
       "    <tr>\n",
       "      <th>8465009</th>\n",
       "      <td>1271.070588</td>\n",
       "      <td>0.152941</td>\n",
       "      <td>0.082353</td>\n",
       "      <td>1.411765</td>\n",
       "      <td>1.623529</td>\n",
       "      <td>0.011765</td>\n",
       "      <td>0.023529</td>\n",
       "      <td>0.858824</td>\n",
       "      <td>0.000000</td>\n",
       "      <td>0.000000</td>\n",
       "      <td>0.388235</td>\n",
       "      <td>0.682353</td>\n",
       "      <td>0.000000</td>\n",
       "      <td>0.000000</td>\n",
       "      <td>1.552941</td>\n",
       "      <td>0.388235</td>\n",
       "      <td>1085.823529</td>\n",
       "      <td>180.082353</td>\n",
       "      <td>5.164706</td>\n",
       "    </tr>\n",
       "    <tr>\n",
       "      <th>8466138</th>\n",
       "      <td>937.652174</td>\n",
       "      <td>0.445652</td>\n",
       "      <td>0.217391</td>\n",
       "      <td>1.293478</td>\n",
       "      <td>0.239130</td>\n",
       "      <td>0.032609</td>\n",
       "      <td>0.141304</td>\n",
       "      <td>0.282609</td>\n",
       "      <td>5.086957</td>\n",
       "      <td>9.706522</td>\n",
       "      <td>0.586957</td>\n",
       "      <td>0.565217</td>\n",
       "      <td>0.000000</td>\n",
       "      <td>0.000000</td>\n",
       "      <td>0.239130</td>\n",
       "      <td>0.021739</td>\n",
       "      <td>819.826087</td>\n",
       "      <td>0.782609</td>\n",
       "      <td>117.043478</td>\n",
       "    </tr>\n",
       "    <tr>\n",
       "      <th>8466139</th>\n",
       "      <td>972.741573</td>\n",
       "      <td>0.258427</td>\n",
       "      <td>0.179775</td>\n",
       "      <td>1.898876</td>\n",
       "      <td>0.977528</td>\n",
       "      <td>0.044944</td>\n",
       "      <td>0.067416</td>\n",
       "      <td>0.337079</td>\n",
       "      <td>1.426966</td>\n",
       "      <td>2.696629</td>\n",
       "      <td>0.382022</td>\n",
       "      <td>0.258427</td>\n",
       "      <td>0.000000</td>\n",
       "      <td>0.000000</td>\n",
       "      <td>0.471910</td>\n",
       "      <td>-0.056180</td>\n",
       "      <td>863.932584</td>\n",
       "      <td>4.685393</td>\n",
       "      <td>104.123596</td>\n",
       "    </tr>\n",
       "    <tr>\n",
       "      <th>8468001</th>\n",
       "      <td>163.000000</td>\n",
       "      <td>0.000000</td>\n",
       "      <td>0.000000</td>\n",
       "      <td>0.000000</td>\n",
       "      <td>0.000000</td>\n",
       "      <td>0.000000</td>\n",
       "      <td>0.000000</td>\n",
       "      <td>0.000000</td>\n",
       "      <td>2.000000</td>\n",
       "      <td>3.000000</td>\n",
       "      <td>0.000000</td>\n",
       "      <td>0.000000</td>\n",
       "      <td>0.000000</td>\n",
       "      <td>0.000000</td>\n",
       "      <td>0.000000</td>\n",
       "      <td>0.000000</td>\n",
       "      <td>163.000000</td>\n",
       "      <td>0.000000</td>\n",
       "      <td>0.000000</td>\n",
       "    </tr>\n",
       "  </tbody>\n",
       "</table>\n",
       "</div>"
      ],
      "text/plain": [
       "             timeOnIce   assists     goals     shots      hits  \\\n",
       "player_id                                                        \n",
       "8464989     689.586667  0.173333  0.093333  1.200000  0.506667   \n",
       "8465009    1271.070588  0.152941  0.082353  1.411765  1.623529   \n",
       "8466138     937.652174  0.445652  0.217391  1.293478  0.239130   \n",
       "8466139     972.741573  0.258427  0.179775  1.898876  0.977528   \n",
       "8468001     163.000000  0.000000  0.000000  0.000000  0.000000   \n",
       "\n",
       "           powerPlayGoals  powerPlayAssists  penaltyMinutes  faceOffWins  \\\n",
       "player_id                                                                  \n",
       "8464989          0.000000          0.000000        0.186667     4.546667   \n",
       "8465009          0.011765          0.023529        0.858824     0.000000   \n",
       "8466138          0.032609          0.141304        0.282609     5.086957   \n",
       "8466139          0.044944          0.067416        0.337079     1.426966   \n",
       "8468001          0.000000          0.000000        0.000000     2.000000   \n",
       "\n",
       "           faceoffTaken  takeaways  giveaways  shortHandedGoals  \\\n",
       "player_id                                                         \n",
       "8464989        9.040000   0.320000   0.333333          0.026667   \n",
       "8465009        0.000000   0.388235   0.682353          0.000000   \n",
       "8466138        9.706522   0.586957   0.565217          0.000000   \n",
       "8466139        2.696629   0.382022   0.258427          0.000000   \n",
       "8468001        3.000000   0.000000   0.000000          0.000000   \n",
       "\n",
       "           shortHandedAssists   blocked  plusMinus  evenTimeOnIce  \\\n",
       "player_id                                                           \n",
       "8464989              0.026667  0.440000   0.066667     551.653333   \n",
       "8465009              0.000000  1.552941   0.388235    1085.823529   \n",
       "8466138              0.000000  0.239130   0.021739     819.826087   \n",
       "8466139              0.000000  0.471910  -0.056180     863.932584   \n",
       "8468001              0.000000  0.000000   0.000000     163.000000   \n",
       "\n",
       "           shortHandedTimeOnIce  powerPlayTimeOnIce  \n",
       "player_id                                            \n",
       "8464989              135.266667            2.666667  \n",
       "8465009              180.082353            5.164706  \n",
       "8466138                0.782609          117.043478  \n",
       "8466139                4.685393          104.123596  \n",
       "8468001                0.000000            0.000000  "
      ]
     },
     "execution_count": 4,
     "metadata": {},
     "output_type": "execute_result"
    }
   ],
   "source": [
    "dfStats = dfSkaterStats.drop(columns=['game_id', 'team_id'])\n",
    "dfStats = dfStats.groupby(['player_id']).mean()\n",
    "dfStats.head()"
   ]
  },
  {
   "cell_type": "code",
   "execution_count": 5,
   "metadata": {},
   "outputs": [
    {
     "data": {
      "text/html": [
       "<div>\n",
       "<style scoped>\n",
       "    .dataframe tbody tr th:only-of-type {\n",
       "        vertical-align: middle;\n",
       "    }\n",
       "\n",
       "    .dataframe tbody tr th {\n",
       "        vertical-align: top;\n",
       "    }\n",
       "\n",
       "    .dataframe thead th {\n",
       "        text-align: right;\n",
       "    }\n",
       "</style>\n",
       "<table border=\"1\" class=\"dataframe\">\n",
       "  <thead>\n",
       "    <tr style=\"text-align: right;\">\n",
       "      <th></th>\n",
       "      <th>player_id</th>\n",
       "      <th>firstName</th>\n",
       "      <th>lastName</th>\n",
       "      <th>nationality</th>\n",
       "      <th>birthCity</th>\n",
       "      <th>primaryPosition</th>\n",
       "      <th>birthDate</th>\n",
       "      <th>birthStateProvince</th>\n",
       "      <th>height</th>\n",
       "      <th>height_cm</th>\n",
       "      <th>...</th>\n",
       "      <th>faceoffTaken</th>\n",
       "      <th>takeaways</th>\n",
       "      <th>giveaways</th>\n",
       "      <th>shortHandedGoals</th>\n",
       "      <th>shortHandedAssists</th>\n",
       "      <th>blocked</th>\n",
       "      <th>plusMinus</th>\n",
       "      <th>evenTimeOnIce</th>\n",
       "      <th>shortHandedTimeOnIce</th>\n",
       "      <th>powerPlayTimeOnIce</th>\n",
       "    </tr>\n",
       "  </thead>\n",
       "  <tbody>\n",
       "    <tr>\n",
       "      <th>0</th>\n",
       "      <td>8476906</td>\n",
       "      <td>Shayne</td>\n",
       "      <td>Gostisbehere</td>\n",
       "      <td>USA</td>\n",
       "      <td>Pembroke Pines</td>\n",
       "      <td>D</td>\n",
       "      <td>1993-04-20 01:00:00</td>\n",
       "      <td>FL</td>\n",
       "      <td>5' 11\"</td>\n",
       "      <td>180.34</td>\n",
       "      <td>...</td>\n",
       "      <td>0.000000</td>\n",
       "      <td>0.256410</td>\n",
       "      <td>0.679487</td>\n",
       "      <td>0.000000</td>\n",
       "      <td>0.000000</td>\n",
       "      <td>1.307692</td>\n",
       "      <td>-0.256410</td>\n",
       "      <td>965.576923</td>\n",
       "      <td>5.307692</td>\n",
       "      <td>208.666667</td>\n",
       "    </tr>\n",
       "    <tr>\n",
       "      <th>1</th>\n",
       "      <td>8470607</td>\n",
       "      <td>Brent</td>\n",
       "      <td>Seabrook</td>\n",
       "      <td>CAN</td>\n",
       "      <td>Richmond</td>\n",
       "      <td>D</td>\n",
       "      <td>1985-04-20 01:00:00</td>\n",
       "      <td>BC</td>\n",
       "      <td>6' 3\"</td>\n",
       "      <td>190.50</td>\n",
       "      <td>...</td>\n",
       "      <td>0.000000</td>\n",
       "      <td>0.243590</td>\n",
       "      <td>0.923077</td>\n",
       "      <td>0.000000</td>\n",
       "      <td>0.012821</td>\n",
       "      <td>2.307692</td>\n",
       "      <td>-0.076923</td>\n",
       "      <td>921.166667</td>\n",
       "      <td>126.871795</td>\n",
       "      <td>97.769231</td>\n",
       "    </tr>\n",
       "    <tr>\n",
       "      <th>2</th>\n",
       "      <td>8474668</td>\n",
       "      <td>Dale</td>\n",
       "      <td>Weise</td>\n",
       "      <td>CAN</td>\n",
       "      <td>Winnipeg</td>\n",
       "      <td>RW</td>\n",
       "      <td>1988-08-05 01:00:00</td>\n",
       "      <td>MB</td>\n",
       "      <td>6' 2\"</td>\n",
       "      <td>187.96</td>\n",
       "      <td>...</td>\n",
       "      <td>0.313725</td>\n",
       "      <td>0.176471</td>\n",
       "      <td>0.196078</td>\n",
       "      <td>0.019608</td>\n",
       "      <td>0.000000</td>\n",
       "      <td>0.411765</td>\n",
       "      <td>-0.156863</td>\n",
       "      <td>622.686275</td>\n",
       "      <td>77.764706</td>\n",
       "      <td>6.156863</td>\n",
       "    </tr>\n",
       "    <tr>\n",
       "      <th>3</th>\n",
       "      <td>8473512</td>\n",
       "      <td>Claude</td>\n",
       "      <td>Giroux</td>\n",
       "      <td>CAN</td>\n",
       "      <td>Hearst</td>\n",
       "      <td>C</td>\n",
       "      <td>1988-01-12 00:00:00</td>\n",
       "      <td>ON</td>\n",
       "      <td>5' 11\"</td>\n",
       "      <td>180.34</td>\n",
       "      <td>...</td>\n",
       "      <td>13.964286</td>\n",
       "      <td>0.559524</td>\n",
       "      <td>0.571429</td>\n",
       "      <td>0.011905</td>\n",
       "      <td>0.000000</td>\n",
       "      <td>0.226190</td>\n",
       "      <td>0.071429</td>\n",
       "      <td>957.702381</td>\n",
       "      <td>101.595238</td>\n",
       "      <td>206.000000</td>\n",
       "    </tr>\n",
       "    <tr>\n",
       "      <th>4</th>\n",
       "      <td>8476994</td>\n",
       "      <td>Vinnie</td>\n",
       "      <td>Hinostroza</td>\n",
       "      <td>USA</td>\n",
       "      <td>Chicago</td>\n",
       "      <td>LW</td>\n",
       "      <td>1994-04-03 01:00:00</td>\n",
       "      <td>IL</td>\n",
       "      <td>5' 9\"</td>\n",
       "      <td>175.26</td>\n",
       "      <td>...</td>\n",
       "      <td>1.430556</td>\n",
       "      <td>0.388889</td>\n",
       "      <td>0.472222</td>\n",
       "      <td>0.000000</td>\n",
       "      <td>0.000000</td>\n",
       "      <td>0.569444</td>\n",
       "      <td>-0.055556</td>\n",
       "      <td>827.527778</td>\n",
       "      <td>9.736111</td>\n",
       "      <td>78.791667</td>\n",
       "    </tr>\n",
       "  </tbody>\n",
       "</table>\n",
       "<p>5 rows × 31 columns</p>\n",
       "</div>"
      ],
      "text/plain": [
       "   player_id firstName      lastName nationality       birthCity  \\\n",
       "0    8476906    Shayne  Gostisbehere         USA  Pembroke Pines   \n",
       "1    8470607     Brent      Seabrook         CAN        Richmond   \n",
       "2    8474668      Dale         Weise         CAN        Winnipeg   \n",
       "3    8473512    Claude        Giroux         CAN          Hearst   \n",
       "4    8476994    Vinnie    Hinostroza         USA         Chicago   \n",
       "\n",
       "  primaryPosition            birthDate birthStateProvince  height  height_cm  \\\n",
       "0               D  1993-04-20 01:00:00                 FL  5' 11\"     180.34   \n",
       "1               D  1985-04-20 01:00:00                 BC   6' 3\"     190.50   \n",
       "2              RW  1988-08-05 01:00:00                 MB   6' 2\"     187.96   \n",
       "3               C  1988-01-12 00:00:00                 ON  5' 11\"     180.34   \n",
       "4              LW  1994-04-03 01:00:00                 IL   5' 9\"     175.26   \n",
       "\n",
       "   ...  faceoffTaken takeaways  giveaways  shortHandedGoals  \\\n",
       "0  ...      0.000000  0.256410   0.679487          0.000000   \n",
       "1  ...      0.000000  0.243590   0.923077          0.000000   \n",
       "2  ...      0.313725  0.176471   0.196078          0.019608   \n",
       "3  ...     13.964286  0.559524   0.571429          0.011905   \n",
       "4  ...      1.430556  0.388889   0.472222          0.000000   \n",
       "\n",
       "   shortHandedAssists   blocked  plusMinus  evenTimeOnIce  \\\n",
       "0            0.000000  1.307692  -0.256410     965.576923   \n",
       "1            0.012821  2.307692  -0.076923     921.166667   \n",
       "2            0.000000  0.411765  -0.156863     622.686275   \n",
       "3            0.000000  0.226190   0.071429     957.702381   \n",
       "4            0.000000  0.569444  -0.055556     827.527778   \n",
       "\n",
       "   shortHandedTimeOnIce  powerPlayTimeOnIce  \n",
       "0              5.307692          208.666667  \n",
       "1            126.871795           97.769231  \n",
       "2             77.764706            6.156863  \n",
       "3            101.595238          206.000000  \n",
       "4              9.736111           78.791667  \n",
       "\n",
       "[5 rows x 31 columns]"
      ]
     },
     "execution_count": 5,
     "metadata": {},
     "output_type": "execute_result"
    }
   ],
   "source": [
    "dfPlayerStats = pd.merge(dfPlayers, dfStats, on='player_id')\n",
    "dfPlayerStats.head()"
   ]
  },
  {
   "cell_type": "code",
   "execution_count": 6,
   "metadata": {},
   "outputs": [
    {
     "data": {
      "text/plain": [
       "primaryPosition\n",
       "D     327\n",
       "C     282\n",
       "LW    163\n",
       "RW    138\n",
       "Name: count, dtype: int64"
      ]
     },
     "execution_count": 6,
     "metadata": {},
     "output_type": "execute_result"
    }
   ],
   "source": [
    "dfPlayerStats = dfPlayerStats[dfPlayerStats['primaryPosition'] != 'G']\n",
    "dfPlayerStats['primaryPosition'].value_counts()"
   ]
  },
  {
   "cell_type": "code",
   "execution_count": 7,
   "metadata": {},
   "outputs": [
    {
     "data": {
      "text/plain": [
       "Index(['player_id', 'firstName', 'lastName', 'nationality', 'birthCity',\n",
       "       'primaryPosition', 'birthDate', 'birthStateProvince', 'height',\n",
       "       'height_cm', 'weight', 'shootsCatches', 'timeOnIce', 'assists', 'goals',\n",
       "       'shots', 'hits', 'powerPlayGoals', 'powerPlayAssists', 'penaltyMinutes',\n",
       "       'faceOffWins', 'faceoffTaken', 'takeaways', 'giveaways',\n",
       "       'shortHandedGoals', 'shortHandedAssists', 'blocked', 'plusMinus',\n",
       "       'evenTimeOnIce', 'shortHandedTimeOnIce', 'powerPlayTimeOnIce'],\n",
       "      dtype='object')"
      ]
     },
     "execution_count": 7,
     "metadata": {},
     "output_type": "execute_result"
    }
   ],
   "source": [
    "dfPlayerStats.columns"
   ]
  },
  {
   "cell_type": "code",
   "execution_count": 8,
   "metadata": {},
   "outputs": [
    {
     "data": {
      "text/plain": [
       "Age\n",
       "24    99\n",
       "25    86\n",
       "23    84\n",
       "26    80\n",
       "22    77\n",
       "28    69\n",
       "27    66\n",
       "21    63\n",
       "29    47\n",
       "30    39\n",
       "20    39\n",
       "31    38\n",
       "33    30\n",
       "32    23\n",
       "19    21\n",
       "34    20\n",
       "35    10\n",
       "36     5\n",
       "37     5\n",
       "39     3\n",
       "18     3\n",
       "38     1\n",
       "41     1\n",
       "42     1\n",
       "Name: count, dtype: int64"
      ]
     },
     "execution_count": 8,
     "metadata": {},
     "output_type": "execute_result"
    }
   ],
   "source": [
    "# Feature engineering: Let's add an Age column based on the year of birth and the current year in the data (2018)\n",
    "dfPlayerStats['Age'] = 2018 - dfPlayerStats['birthDate'].str[:4].astype(int)\n",
    "dfPlayerStats.sort_values('Age')['Age'].value_counts()"
   ]
  },
  {
   "cell_type": "code",
   "execution_count": 9,
   "metadata": {},
   "outputs": [],
   "source": [
    "import plotly.express as px\n",
    "\n",
    "# Specify defaults for Plotly settings\n",
    "px.defaults.color_continuous_scale = px.colors.sequential.Agsunset\n",
    "px.defaults.color_discrete_sequence = px.colors.qualitative.Prism\n",
    "#px.defaults.template = 'plotly_dark'\n",
    "px.defaults.template = 'plotly_white'"
   ]
  },
  {
   "cell_type": "code",
   "execution_count": 10,
   "metadata": {},
   "outputs": [
    {
     "data": {
      "application/vnd.plotly.v1+json": {
       "config": {
        "plotlyServerURL": "https://plot.ly"
       },
       "data": [
        {
         "alignmentgroup": "True",
         "bingroup": "x",
         "hovertemplate": "Position=C<br>Age=%{x}<br>count=%{y}<extra></extra>",
         "legendgroup": "C",
         "marker": {
          "color": "rgb(95, 70, 144)",
          "pattern": {
           "shape": ""
          }
         },
         "name": "C",
         "offsetgroup": "C",
         "orientation": "v",
         "showlegend": true,
         "type": "histogram",
         "x": [
          18,
          19,
          19,
          19,
          19,
          19,
          19,
          19,
          19,
          19,
          20,
          20,
          20,
          20,
          20,
          20,
          20,
          20,
          20,
          20,
          20,
          20,
          20,
          20,
          20,
          20,
          21,
          21,
          21,
          21,
          21,
          21,
          21,
          21,
          21,
          21,
          21,
          21,
          21,
          21,
          21,
          21,
          21,
          21,
          21,
          21,
          21,
          21,
          21,
          22,
          22,
          22,
          22,
          22,
          22,
          22,
          22,
          22,
          22,
          22,
          22,
          22,
          22,
          22,
          22,
          22,
          22,
          22,
          22,
          22,
          22,
          22,
          22,
          22,
          22,
          23,
          23,
          23,
          23,
          23,
          23,
          23,
          23,
          23,
          23,
          23,
          23,
          23,
          23,
          23,
          23,
          23,
          23,
          23,
          23,
          23,
          24,
          24,
          24,
          24,
          24,
          24,
          24,
          24,
          24,
          24,
          24,
          24,
          24,
          24,
          24,
          24,
          24,
          24,
          24,
          24,
          24,
          24,
          24,
          24,
          24,
          24,
          24,
          24,
          24,
          24,
          25,
          25,
          25,
          25,
          25,
          25,
          25,
          25,
          25,
          25,
          25,
          25,
          25,
          25,
          25,
          25,
          25,
          25,
          25,
          25,
          25,
          25,
          25,
          25,
          25,
          25,
          25,
          25,
          25,
          25,
          25,
          25,
          25,
          25,
          25,
          26,
          26,
          26,
          26,
          26,
          26,
          26,
          26,
          26,
          26,
          26,
          26,
          26,
          26,
          26,
          26,
          26,
          26,
          26,
          26,
          26,
          26,
          26,
          27,
          27,
          27,
          27,
          27,
          27,
          27,
          27,
          27,
          27,
          27,
          27,
          27,
          27,
          27,
          27,
          28,
          28,
          28,
          28,
          28,
          28,
          28,
          28,
          28,
          28,
          28,
          28,
          28,
          28,
          28,
          28,
          28,
          28,
          28,
          29,
          29,
          29,
          29,
          29,
          29,
          29,
          29,
          29,
          29,
          29,
          29,
          29,
          30,
          30,
          30,
          30,
          30,
          30,
          30,
          30,
          31,
          31,
          31,
          31,
          31,
          31,
          31,
          31,
          31,
          31,
          32,
          32,
          32,
          32,
          32,
          32,
          33,
          33,
          33,
          33,
          33,
          33,
          33,
          33,
          33,
          33,
          34,
          34,
          34,
          34,
          34,
          34,
          34,
          34,
          35,
          35,
          36,
          37,
          37,
          39,
          39,
          42
         ],
         "xaxis": "x",
         "yaxis": "y"
        },
        {
         "alignmentgroup": "True",
         "bingroup": "x",
         "hovertemplate": "Position=D<br>Age=%{x}<br>count=%{y}<extra></extra>",
         "legendgroup": "D",
         "marker": {
          "color": "rgb(29, 105, 150)",
          "pattern": {
           "shape": ""
          }
         },
         "name": "D",
         "offsetgroup": "D",
         "orientation": "v",
         "showlegend": true,
         "type": "histogram",
         "x": [
          18,
          19,
          19,
          19,
          19,
          19,
          19,
          20,
          20,
          20,
          20,
          20,
          20,
          20,
          20,
          20,
          20,
          20,
          20,
          20,
          20,
          21,
          21,
          21,
          21,
          21,
          21,
          21,
          21,
          21,
          21,
          21,
          21,
          21,
          21,
          21,
          21,
          21,
          21,
          21,
          21,
          21,
          22,
          22,
          22,
          22,
          22,
          22,
          22,
          22,
          22,
          22,
          22,
          22,
          22,
          22,
          22,
          22,
          22,
          22,
          22,
          22,
          23,
          23,
          23,
          23,
          23,
          23,
          23,
          23,
          23,
          23,
          23,
          23,
          23,
          23,
          23,
          23,
          23,
          23,
          23,
          23,
          23,
          23,
          23,
          23,
          23,
          23,
          23,
          23,
          24,
          24,
          24,
          24,
          24,
          24,
          24,
          24,
          24,
          24,
          24,
          24,
          24,
          24,
          24,
          24,
          24,
          24,
          24,
          24,
          24,
          24,
          24,
          24,
          24,
          24,
          24,
          24,
          24,
          24,
          24,
          24,
          24,
          24,
          24,
          24,
          24,
          24,
          24,
          24,
          25,
          25,
          25,
          25,
          25,
          25,
          25,
          25,
          25,
          25,
          25,
          25,
          25,
          25,
          25,
          25,
          25,
          25,
          25,
          25,
          25,
          25,
          25,
          25,
          26,
          26,
          26,
          26,
          26,
          26,
          26,
          26,
          26,
          26,
          26,
          26,
          26,
          26,
          26,
          26,
          26,
          26,
          26,
          26,
          26,
          26,
          26,
          26,
          26,
          26,
          26,
          27,
          27,
          27,
          27,
          27,
          27,
          27,
          27,
          27,
          27,
          27,
          27,
          27,
          27,
          27,
          27,
          27,
          27,
          27,
          27,
          27,
          27,
          27,
          27,
          27,
          27,
          28,
          28,
          28,
          28,
          28,
          28,
          28,
          28,
          28,
          28,
          28,
          28,
          28,
          28,
          28,
          28,
          28,
          28,
          28,
          28,
          28,
          28,
          28,
          28,
          28,
          28,
          28,
          28,
          28,
          28,
          28,
          28,
          28,
          28,
          28,
          28,
          28,
          28,
          28,
          28,
          29,
          29,
          29,
          29,
          29,
          29,
          29,
          29,
          29,
          29,
          29,
          29,
          29,
          29,
          30,
          30,
          30,
          30,
          30,
          30,
          30,
          30,
          30,
          30,
          30,
          30,
          30,
          30,
          31,
          31,
          31,
          31,
          31,
          31,
          31,
          31,
          31,
          31,
          31,
          31,
          31,
          31,
          32,
          32,
          32,
          32,
          32,
          32,
          32,
          32,
          32,
          32,
          32,
          33,
          33,
          33,
          33,
          33,
          33,
          33,
          33,
          33,
          33,
          33,
          34,
          34,
          34,
          34,
          34,
          35,
          35,
          35,
          35,
          36,
          36,
          36,
          37,
          37,
          38,
          41
         ],
         "xaxis": "x",
         "yaxis": "y"
        },
        {
         "alignmentgroup": "True",
         "bingroup": "x",
         "hovertemplate": "Position=RW<br>Age=%{x}<br>count=%{y}<extra></extra>",
         "legendgroup": "RW",
         "marker": {
          "color": "rgb(56, 166, 165)",
          "pattern": {
           "shape": ""
          }
         },
         "name": "RW",
         "offsetgroup": "RW",
         "orientation": "v",
         "showlegend": true,
         "type": "histogram",
         "x": [
          18,
          19,
          19,
          20,
          20,
          20,
          20,
          20,
          20,
          21,
          21,
          21,
          21,
          21,
          21,
          21,
          21,
          21,
          21,
          21,
          21,
          21,
          22,
          22,
          22,
          22,
          22,
          22,
          22,
          22,
          22,
          22,
          22,
          23,
          23,
          23,
          23,
          23,
          23,
          23,
          23,
          23,
          23,
          23,
          23,
          23,
          23,
          23,
          24,
          24,
          24,
          24,
          24,
          24,
          24,
          25,
          25,
          25,
          25,
          25,
          25,
          25,
          25,
          25,
          25,
          25,
          25,
          25,
          25,
          25,
          26,
          26,
          26,
          26,
          26,
          26,
          26,
          26,
          26,
          26,
          26,
          26,
          27,
          27,
          27,
          27,
          27,
          27,
          27,
          27,
          27,
          27,
          28,
          28,
          28,
          28,
          28,
          29,
          29,
          29,
          29,
          29,
          29,
          29,
          29,
          29,
          30,
          30,
          30,
          30,
          30,
          30,
          31,
          31,
          31,
          31,
          31,
          31,
          31,
          32,
          32,
          32,
          32,
          32,
          33,
          33,
          33,
          33,
          33,
          34,
          34,
          34,
          35,
          35,
          35,
          35,
          36,
          37
         ],
         "xaxis": "x",
         "yaxis": "y"
        },
        {
         "alignmentgroup": "True",
         "bingroup": "x",
         "hovertemplate": "Position=LW<br>Age=%{x}<br>count=%{y}<extra></extra>",
         "legendgroup": "LW",
         "marker": {
          "color": "rgb(15, 133, 84)",
          "pattern": {
           "shape": ""
          }
         },
         "name": "LW",
         "offsetgroup": "LW",
         "orientation": "v",
         "showlegend": true,
         "type": "histogram",
         "x": [
          19,
          19,
          19,
          19,
          20,
          20,
          20,
          21,
          21,
          21,
          21,
          21,
          21,
          22,
          22,
          22,
          22,
          22,
          22,
          22,
          22,
          22,
          22,
          22,
          22,
          22,
          22,
          22,
          22,
          22,
          22,
          22,
          22,
          23,
          23,
          23,
          23,
          23,
          23,
          23,
          23,
          23,
          23,
          23,
          23,
          23,
          23,
          23,
          23,
          23,
          23,
          23,
          23,
          24,
          24,
          24,
          24,
          24,
          24,
          24,
          24,
          24,
          24,
          24,
          24,
          24,
          24,
          24,
          24,
          24,
          24,
          24,
          24,
          24,
          24,
          25,
          25,
          25,
          25,
          25,
          25,
          25,
          25,
          25,
          25,
          25,
          25,
          26,
          26,
          26,
          26,
          26,
          26,
          26,
          26,
          26,
          26,
          26,
          26,
          26,
          26,
          26,
          26,
          26,
          26,
          27,
          27,
          27,
          27,
          27,
          27,
          27,
          27,
          27,
          27,
          27,
          27,
          27,
          27,
          28,
          28,
          28,
          28,
          28,
          29,
          29,
          29,
          29,
          29,
          29,
          29,
          29,
          29,
          29,
          29,
          30,
          30,
          30,
          30,
          30,
          30,
          30,
          30,
          30,
          30,
          30,
          31,
          31,
          31,
          31,
          31,
          31,
          31,
          32,
          33,
          33,
          33,
          33,
          34,
          34,
          34,
          34,
          39
         ],
         "xaxis": "x",
         "yaxis": "y"
        }
       ],
       "layout": {
        "barmode": "relative",
        "legend": {
         "title": {
          "text": "Position"
         },
         "tracegroupgap": 0
        },
        "template": {
         "data": {
          "bar": [
           {
            "error_x": {
             "color": "#2a3f5f"
            },
            "error_y": {
             "color": "#2a3f5f"
            },
            "marker": {
             "line": {
              "color": "white",
              "width": 0.5
             },
             "pattern": {
              "fillmode": "overlay",
              "size": 10,
              "solidity": 0.2
             }
            },
            "type": "bar"
           }
          ],
          "barpolar": [
           {
            "marker": {
             "line": {
              "color": "white",
              "width": 0.5
             },
             "pattern": {
              "fillmode": "overlay",
              "size": 10,
              "solidity": 0.2
             }
            },
            "type": "barpolar"
           }
          ],
          "carpet": [
           {
            "aaxis": {
             "endlinecolor": "#2a3f5f",
             "gridcolor": "#C8D4E3",
             "linecolor": "#C8D4E3",
             "minorgridcolor": "#C8D4E3",
             "startlinecolor": "#2a3f5f"
            },
            "baxis": {
             "endlinecolor": "#2a3f5f",
             "gridcolor": "#C8D4E3",
             "linecolor": "#C8D4E3",
             "minorgridcolor": "#C8D4E3",
             "startlinecolor": "#2a3f5f"
            },
            "type": "carpet"
           }
          ],
          "choropleth": [
           {
            "colorbar": {
             "outlinewidth": 0,
             "ticks": ""
            },
            "type": "choropleth"
           }
          ],
          "contour": [
           {
            "colorbar": {
             "outlinewidth": 0,
             "ticks": ""
            },
            "colorscale": [
             [
              0,
              "#0d0887"
             ],
             [
              0.1111111111111111,
              "#46039f"
             ],
             [
              0.2222222222222222,
              "#7201a8"
             ],
             [
              0.3333333333333333,
              "#9c179e"
             ],
             [
              0.4444444444444444,
              "#bd3786"
             ],
             [
              0.5555555555555556,
              "#d8576b"
             ],
             [
              0.6666666666666666,
              "#ed7953"
             ],
             [
              0.7777777777777778,
              "#fb9f3a"
             ],
             [
              0.8888888888888888,
              "#fdca26"
             ],
             [
              1,
              "#f0f921"
             ]
            ],
            "type": "contour"
           }
          ],
          "contourcarpet": [
           {
            "colorbar": {
             "outlinewidth": 0,
             "ticks": ""
            },
            "type": "contourcarpet"
           }
          ],
          "heatmap": [
           {
            "colorbar": {
             "outlinewidth": 0,
             "ticks": ""
            },
            "colorscale": [
             [
              0,
              "#0d0887"
             ],
             [
              0.1111111111111111,
              "#46039f"
             ],
             [
              0.2222222222222222,
              "#7201a8"
             ],
             [
              0.3333333333333333,
              "#9c179e"
             ],
             [
              0.4444444444444444,
              "#bd3786"
             ],
             [
              0.5555555555555556,
              "#d8576b"
             ],
             [
              0.6666666666666666,
              "#ed7953"
             ],
             [
              0.7777777777777778,
              "#fb9f3a"
             ],
             [
              0.8888888888888888,
              "#fdca26"
             ],
             [
              1,
              "#f0f921"
             ]
            ],
            "type": "heatmap"
           }
          ],
          "heatmapgl": [
           {
            "colorbar": {
             "outlinewidth": 0,
             "ticks": ""
            },
            "colorscale": [
             [
              0,
              "#0d0887"
             ],
             [
              0.1111111111111111,
              "#46039f"
             ],
             [
              0.2222222222222222,
              "#7201a8"
             ],
             [
              0.3333333333333333,
              "#9c179e"
             ],
             [
              0.4444444444444444,
              "#bd3786"
             ],
             [
              0.5555555555555556,
              "#d8576b"
             ],
             [
              0.6666666666666666,
              "#ed7953"
             ],
             [
              0.7777777777777778,
              "#fb9f3a"
             ],
             [
              0.8888888888888888,
              "#fdca26"
             ],
             [
              1,
              "#f0f921"
             ]
            ],
            "type": "heatmapgl"
           }
          ],
          "histogram": [
           {
            "marker": {
             "pattern": {
              "fillmode": "overlay",
              "size": 10,
              "solidity": 0.2
             }
            },
            "type": "histogram"
           }
          ],
          "histogram2d": [
           {
            "colorbar": {
             "outlinewidth": 0,
             "ticks": ""
            },
            "colorscale": [
             [
              0,
              "#0d0887"
             ],
             [
              0.1111111111111111,
              "#46039f"
             ],
             [
              0.2222222222222222,
              "#7201a8"
             ],
             [
              0.3333333333333333,
              "#9c179e"
             ],
             [
              0.4444444444444444,
              "#bd3786"
             ],
             [
              0.5555555555555556,
              "#d8576b"
             ],
             [
              0.6666666666666666,
              "#ed7953"
             ],
             [
              0.7777777777777778,
              "#fb9f3a"
             ],
             [
              0.8888888888888888,
              "#fdca26"
             ],
             [
              1,
              "#f0f921"
             ]
            ],
            "type": "histogram2d"
           }
          ],
          "histogram2dcontour": [
           {
            "colorbar": {
             "outlinewidth": 0,
             "ticks": ""
            },
            "colorscale": [
             [
              0,
              "#0d0887"
             ],
             [
              0.1111111111111111,
              "#46039f"
             ],
             [
              0.2222222222222222,
              "#7201a8"
             ],
             [
              0.3333333333333333,
              "#9c179e"
             ],
             [
              0.4444444444444444,
              "#bd3786"
             ],
             [
              0.5555555555555556,
              "#d8576b"
             ],
             [
              0.6666666666666666,
              "#ed7953"
             ],
             [
              0.7777777777777778,
              "#fb9f3a"
             ],
             [
              0.8888888888888888,
              "#fdca26"
             ],
             [
              1,
              "#f0f921"
             ]
            ],
            "type": "histogram2dcontour"
           }
          ],
          "mesh3d": [
           {
            "colorbar": {
             "outlinewidth": 0,
             "ticks": ""
            },
            "type": "mesh3d"
           }
          ],
          "parcoords": [
           {
            "line": {
             "colorbar": {
              "outlinewidth": 0,
              "ticks": ""
             }
            },
            "type": "parcoords"
           }
          ],
          "pie": [
           {
            "automargin": true,
            "type": "pie"
           }
          ],
          "scatter": [
           {
            "fillpattern": {
             "fillmode": "overlay",
             "size": 10,
             "solidity": 0.2
            },
            "type": "scatter"
           }
          ],
          "scatter3d": [
           {
            "line": {
             "colorbar": {
              "outlinewidth": 0,
              "ticks": ""
             }
            },
            "marker": {
             "colorbar": {
              "outlinewidth": 0,
              "ticks": ""
             }
            },
            "type": "scatter3d"
           }
          ],
          "scattercarpet": [
           {
            "marker": {
             "colorbar": {
              "outlinewidth": 0,
              "ticks": ""
             }
            },
            "type": "scattercarpet"
           }
          ],
          "scattergeo": [
           {
            "marker": {
             "colorbar": {
              "outlinewidth": 0,
              "ticks": ""
             }
            },
            "type": "scattergeo"
           }
          ],
          "scattergl": [
           {
            "marker": {
             "colorbar": {
              "outlinewidth": 0,
              "ticks": ""
             }
            },
            "type": "scattergl"
           }
          ],
          "scattermapbox": [
           {
            "marker": {
             "colorbar": {
              "outlinewidth": 0,
              "ticks": ""
             }
            },
            "type": "scattermapbox"
           }
          ],
          "scatterpolar": [
           {
            "marker": {
             "colorbar": {
              "outlinewidth": 0,
              "ticks": ""
             }
            },
            "type": "scatterpolar"
           }
          ],
          "scatterpolargl": [
           {
            "marker": {
             "colorbar": {
              "outlinewidth": 0,
              "ticks": ""
             }
            },
            "type": "scatterpolargl"
           }
          ],
          "scatterternary": [
           {
            "marker": {
             "colorbar": {
              "outlinewidth": 0,
              "ticks": ""
             }
            },
            "type": "scatterternary"
           }
          ],
          "surface": [
           {
            "colorbar": {
             "outlinewidth": 0,
             "ticks": ""
            },
            "colorscale": [
             [
              0,
              "#0d0887"
             ],
             [
              0.1111111111111111,
              "#46039f"
             ],
             [
              0.2222222222222222,
              "#7201a8"
             ],
             [
              0.3333333333333333,
              "#9c179e"
             ],
             [
              0.4444444444444444,
              "#bd3786"
             ],
             [
              0.5555555555555556,
              "#d8576b"
             ],
             [
              0.6666666666666666,
              "#ed7953"
             ],
             [
              0.7777777777777778,
              "#fb9f3a"
             ],
             [
              0.8888888888888888,
              "#fdca26"
             ],
             [
              1,
              "#f0f921"
             ]
            ],
            "type": "surface"
           }
          ],
          "table": [
           {
            "cells": {
             "fill": {
              "color": "#EBF0F8"
             },
             "line": {
              "color": "white"
             }
            },
            "header": {
             "fill": {
              "color": "#C8D4E3"
             },
             "line": {
              "color": "white"
             }
            },
            "type": "table"
           }
          ]
         },
         "layout": {
          "annotationdefaults": {
           "arrowcolor": "#2a3f5f",
           "arrowhead": 0,
           "arrowwidth": 1
          },
          "autotypenumbers": "strict",
          "coloraxis": {
           "colorbar": {
            "outlinewidth": 0,
            "ticks": ""
           }
          },
          "colorscale": {
           "diverging": [
            [
             0,
             "#8e0152"
            ],
            [
             0.1,
             "#c51b7d"
            ],
            [
             0.2,
             "#de77ae"
            ],
            [
             0.3,
             "#f1b6da"
            ],
            [
             0.4,
             "#fde0ef"
            ],
            [
             0.5,
             "#f7f7f7"
            ],
            [
             0.6,
             "#e6f5d0"
            ],
            [
             0.7,
             "#b8e186"
            ],
            [
             0.8,
             "#7fbc41"
            ],
            [
             0.9,
             "#4d9221"
            ],
            [
             1,
             "#276419"
            ]
           ],
           "sequential": [
            [
             0,
             "#0d0887"
            ],
            [
             0.1111111111111111,
             "#46039f"
            ],
            [
             0.2222222222222222,
             "#7201a8"
            ],
            [
             0.3333333333333333,
             "#9c179e"
            ],
            [
             0.4444444444444444,
             "#bd3786"
            ],
            [
             0.5555555555555556,
             "#d8576b"
            ],
            [
             0.6666666666666666,
             "#ed7953"
            ],
            [
             0.7777777777777778,
             "#fb9f3a"
            ],
            [
             0.8888888888888888,
             "#fdca26"
            ],
            [
             1,
             "#f0f921"
            ]
           ],
           "sequentialminus": [
            [
             0,
             "#0d0887"
            ],
            [
             0.1111111111111111,
             "#46039f"
            ],
            [
             0.2222222222222222,
             "#7201a8"
            ],
            [
             0.3333333333333333,
             "#9c179e"
            ],
            [
             0.4444444444444444,
             "#bd3786"
            ],
            [
             0.5555555555555556,
             "#d8576b"
            ],
            [
             0.6666666666666666,
             "#ed7953"
            ],
            [
             0.7777777777777778,
             "#fb9f3a"
            ],
            [
             0.8888888888888888,
             "#fdca26"
            ],
            [
             1,
             "#f0f921"
            ]
           ]
          },
          "colorway": [
           "#636efa",
           "#EF553B",
           "#00cc96",
           "#ab63fa",
           "#FFA15A",
           "#19d3f3",
           "#FF6692",
           "#B6E880",
           "#FF97FF",
           "#FECB52"
          ],
          "font": {
           "color": "#2a3f5f"
          },
          "geo": {
           "bgcolor": "white",
           "lakecolor": "white",
           "landcolor": "white",
           "showlakes": true,
           "showland": true,
           "subunitcolor": "#C8D4E3"
          },
          "hoverlabel": {
           "align": "left"
          },
          "hovermode": "closest",
          "mapbox": {
           "style": "light"
          },
          "paper_bgcolor": "white",
          "plot_bgcolor": "white",
          "polar": {
           "angularaxis": {
            "gridcolor": "#EBF0F8",
            "linecolor": "#EBF0F8",
            "ticks": ""
           },
           "bgcolor": "white",
           "radialaxis": {
            "gridcolor": "#EBF0F8",
            "linecolor": "#EBF0F8",
            "ticks": ""
           }
          },
          "scene": {
           "xaxis": {
            "backgroundcolor": "white",
            "gridcolor": "#DFE8F3",
            "gridwidth": 2,
            "linecolor": "#EBF0F8",
            "showbackground": true,
            "ticks": "",
            "zerolinecolor": "#EBF0F8"
           },
           "yaxis": {
            "backgroundcolor": "white",
            "gridcolor": "#DFE8F3",
            "gridwidth": 2,
            "linecolor": "#EBF0F8",
            "showbackground": true,
            "ticks": "",
            "zerolinecolor": "#EBF0F8"
           },
           "zaxis": {
            "backgroundcolor": "white",
            "gridcolor": "#DFE8F3",
            "gridwidth": 2,
            "linecolor": "#EBF0F8",
            "showbackground": true,
            "ticks": "",
            "zerolinecolor": "#EBF0F8"
           }
          },
          "shapedefaults": {
           "line": {
            "color": "#2a3f5f"
           }
          },
          "ternary": {
           "aaxis": {
            "gridcolor": "#DFE8F3",
            "linecolor": "#A2B1C6",
            "ticks": ""
           },
           "baxis": {
            "gridcolor": "#DFE8F3",
            "linecolor": "#A2B1C6",
            "ticks": ""
           },
           "bgcolor": "white",
           "caxis": {
            "gridcolor": "#DFE8F3",
            "linecolor": "#A2B1C6",
            "ticks": ""
           }
          },
          "title": {
           "x": 0.05
          },
          "xaxis": {
           "automargin": true,
           "gridcolor": "#EBF0F8",
           "linecolor": "#EBF0F8",
           "ticks": "",
           "title": {
            "standoff": 15
           },
           "zerolinecolor": "#EBF0F8",
           "zerolinewidth": 2
          },
          "yaxis": {
           "automargin": true,
           "gridcolor": "#EBF0F8",
           "linecolor": "#EBF0F8",
           "ticks": "",
           "title": {
            "standoff": 15
           },
           "zerolinecolor": "#EBF0F8",
           "zerolinewidth": 2
          }
         }
        },
        "title": {
         "text": "Age Distribution of Skaters by Position"
        },
        "xaxis": {
         "anchor": "y",
         "domain": [
          0,
          1
         ],
         "title": {
          "text": "Age"
         }
        },
        "yaxis": {
         "anchor": "x",
         "domain": [
          0,
          1
         ],
         "title": {
          "text": "count"
         }
        }
       }
      }
     },
     "metadata": {},
     "output_type": "display_data"
    }
   ],
   "source": [
    "px.histogram(dfPlayerStats.sort_values('Age'), \n",
    "             x='Age', \n",
    "             title='Age Distribution of Skaters by Position', \n",
    "             labels={'primaryPosition': 'Position'},\n",
    "             color='primaryPosition')"
   ]
  },
  {
   "cell_type": "code",
   "execution_count": 11,
   "metadata": {},
   "outputs": [],
   "source": [
    "dfPlayerStats = dfPlayerStats.drop(columns=['player_id', 'firstName', 'lastName', 'height','nationality', 'birthCity', 'birthStateProvince','birthDate'])"
   ]
  },
  {
   "cell_type": "code",
   "execution_count": 12,
   "metadata": {},
   "outputs": [
    {
     "data": {
      "text/plain": [
       "Index(['primaryPosition', 'height_cm', 'weight', 'shootsCatches', 'timeOnIce',\n",
       "       'assists', 'goals', 'shots', 'hits', 'powerPlayGoals',\n",
       "       'powerPlayAssists', 'penaltyMinutes', 'faceOffWins', 'faceoffTaken',\n",
       "       'takeaways', 'giveaways', 'shortHandedGoals', 'shortHandedAssists',\n",
       "       'blocked', 'plusMinus', 'evenTimeOnIce', 'shortHandedTimeOnIce',\n",
       "       'powerPlayTimeOnIce', 'Age'],\n",
       "      dtype='object')"
      ]
     },
     "execution_count": 12,
     "metadata": {},
     "output_type": "execute_result"
    }
   ],
   "source": [
    "dfPlayerStats.columns"
   ]
  },
  {
   "cell_type": "code",
   "execution_count": 13,
   "metadata": {},
   "outputs": [
    {
     "name": "stdout",
     "output_type": "stream",
     "text": [
      "<class 'pandas.core.frame.DataFrame'>\n",
      "RangeIndex: 910 entries, 0 to 909\n",
      "Data columns (total 24 columns):\n",
      " #   Column                Non-Null Count  Dtype  \n",
      "---  ------                --------------  -----  \n",
      " 0   primaryPosition       910 non-null    object \n",
      " 1   height_cm             910 non-null    float64\n",
      " 2   weight                910 non-null    float64\n",
      " 3   shootsCatches         910 non-null    object \n",
      " 4   timeOnIce             910 non-null    float64\n",
      " 5   assists               910 non-null    float64\n",
      " 6   goals                 910 non-null    float64\n",
      " 7   shots                 910 non-null    float64\n",
      " 8   hits                  910 non-null    float64\n",
      " 9   powerPlayGoals        910 non-null    float64\n",
      " 10  powerPlayAssists      910 non-null    float64\n",
      " 11  penaltyMinutes        910 non-null    float64\n",
      " 12  faceOffWins           910 non-null    float64\n",
      " 13  faceoffTaken          910 non-null    float64\n",
      " 14  takeaways             910 non-null    float64\n",
      " 15  giveaways             910 non-null    float64\n",
      " 16  shortHandedGoals      910 non-null    float64\n",
      " 17  shortHandedAssists    910 non-null    float64\n",
      " 18  blocked               910 non-null    float64\n",
      " 19  plusMinus             910 non-null    float64\n",
      " 20  evenTimeOnIce         910 non-null    float64\n",
      " 21  shortHandedTimeOnIce  910 non-null    float64\n",
      " 22  powerPlayTimeOnIce    910 non-null    float64\n",
      " 23  Age                   910 non-null    int64  \n",
      "dtypes: float64(21), int64(1), object(2)\n",
      "memory usage: 170.8+ KB\n"
     ]
    }
   ],
   "source": [
    "dfPlayerStats.info()"
   ]
  },
  {
   "cell_type": "code",
   "execution_count": 14,
   "metadata": {},
   "outputs": [
    {
     "data": {
      "text/plain": [
       "shootsCatches\n",
       "L    574\n",
       "R    336\n",
       "Name: count, dtype: int64"
      ]
     },
     "execution_count": 14,
     "metadata": {},
     "output_type": "execute_result"
    }
   ],
   "source": [
    "dfPlayerStats['shootsCatches'].value_counts()"
   ]
  },
  {
   "cell_type": "code",
   "execution_count": 15,
   "metadata": {},
   "outputs": [
    {
     "name": "stdout",
     "output_type": "stream",
     "text": [
      "<class 'pandas.core.series.Series'>\n",
      "RangeIndex: 910 entries, 0 to 909\n",
      "Series name: ShootsRight\n",
      "Non-Null Count  Dtype\n",
      "--------------  -----\n",
      "910 non-null    bool \n",
      "dtypes: bool(1)\n",
      "memory usage: 1.0 KB\n"
     ]
    }
   ],
   "source": [
    "dfPlayerStats['ShootsRight'] = dfPlayerStats['shootsCatches'] == 'R'\n",
    "dfPlayerStats['ShootsRight'].info()"
   ]
  },
  {
   "cell_type": "code",
   "execution_count": 16,
   "metadata": {},
   "outputs": [],
   "source": [
    "dfPlayerStats = dfPlayerStats.drop(columns=['shootsCatches'])"
   ]
  },
  {
   "cell_type": "code",
   "execution_count": 17,
   "metadata": {},
   "outputs": [
    {
     "data": {
      "text/html": [
       "<div>\n",
       "<style scoped>\n",
       "    .dataframe tbody tr th:only-of-type {\n",
       "        vertical-align: middle;\n",
       "    }\n",
       "\n",
       "    .dataframe tbody tr th {\n",
       "        vertical-align: top;\n",
       "    }\n",
       "\n",
       "    .dataframe thead th {\n",
       "        text-align: right;\n",
       "    }\n",
       "</style>\n",
       "<table border=\"1\" class=\"dataframe\">\n",
       "  <thead>\n",
       "    <tr style=\"text-align: right;\">\n",
       "      <th></th>\n",
       "      <th>height_cm</th>\n",
       "      <th>weight</th>\n",
       "      <th>timeOnIce</th>\n",
       "      <th>assists</th>\n",
       "      <th>goals</th>\n",
       "      <th>shots</th>\n",
       "      <th>hits</th>\n",
       "      <th>powerPlayGoals</th>\n",
       "      <th>powerPlayAssists</th>\n",
       "      <th>penaltyMinutes</th>\n",
       "      <th>...</th>\n",
       "      <th>plusMinus</th>\n",
       "      <th>evenTimeOnIce</th>\n",
       "      <th>shortHandedTimeOnIce</th>\n",
       "      <th>powerPlayTimeOnIce</th>\n",
       "      <th>Age</th>\n",
       "      <th>ShootsRight</th>\n",
       "      <th>primaryPosition_C</th>\n",
       "      <th>primaryPosition_D</th>\n",
       "      <th>primaryPosition_LW</th>\n",
       "      <th>primaryPosition_RW</th>\n",
       "    </tr>\n",
       "  </thead>\n",
       "  <tbody>\n",
       "    <tr>\n",
       "      <th>0</th>\n",
       "      <td>180.34</td>\n",
       "      <td>180.0</td>\n",
       "      <td>1179.551282</td>\n",
       "      <td>0.358974</td>\n",
       "      <td>0.115385</td>\n",
       "      <td>2.307692</td>\n",
       "      <td>0.589744</td>\n",
       "      <td>0.051282</td>\n",
       "      <td>0.128205</td>\n",
       "      <td>0.282051</td>\n",
       "      <td>...</td>\n",
       "      <td>-0.256410</td>\n",
       "      <td>965.576923</td>\n",
       "      <td>5.307692</td>\n",
       "      <td>208.666667</td>\n",
       "      <td>25</td>\n",
       "      <td>False</td>\n",
       "      <td>False</td>\n",
       "      <td>True</td>\n",
       "      <td>False</td>\n",
       "      <td>False</td>\n",
       "    </tr>\n",
       "    <tr>\n",
       "      <th>1</th>\n",
       "      <td>190.50</td>\n",
       "      <td>220.0</td>\n",
       "      <td>1145.807692</td>\n",
       "      <td>0.294872</td>\n",
       "      <td>0.064103</td>\n",
       "      <td>2.115385</td>\n",
       "      <td>1.589744</td>\n",
       "      <td>0.025641</td>\n",
       "      <td>0.102564</td>\n",
       "      <td>0.525641</td>\n",
       "      <td>...</td>\n",
       "      <td>-0.076923</td>\n",
       "      <td>921.166667</td>\n",
       "      <td>126.871795</td>\n",
       "      <td>97.769231</td>\n",
       "      <td>33</td>\n",
       "      <td>True</td>\n",
       "      <td>False</td>\n",
       "      <td>True</td>\n",
       "      <td>False</td>\n",
       "      <td>False</td>\n",
       "    </tr>\n",
       "    <tr>\n",
       "      <th>2</th>\n",
       "      <td>187.96</td>\n",
       "      <td>206.0</td>\n",
       "      <td>706.607843</td>\n",
       "      <td>0.117647</td>\n",
       "      <td>0.098039</td>\n",
       "      <td>1.137255</td>\n",
       "      <td>1.725490</td>\n",
       "      <td>0.000000</td>\n",
       "      <td>0.000000</td>\n",
       "      <td>0.372549</td>\n",
       "      <td>...</td>\n",
       "      <td>-0.156863</td>\n",
       "      <td>622.686275</td>\n",
       "      <td>77.764706</td>\n",
       "      <td>6.156863</td>\n",
       "      <td>30</td>\n",
       "      <td>True</td>\n",
       "      <td>False</td>\n",
       "      <td>False</td>\n",
       "      <td>False</td>\n",
       "      <td>True</td>\n",
       "    </tr>\n",
       "    <tr>\n",
       "      <th>3</th>\n",
       "      <td>180.34</td>\n",
       "      <td>185.0</td>\n",
       "      <td>1265.297619</td>\n",
       "      <td>0.761905</td>\n",
       "      <td>0.273810</td>\n",
       "      <td>2.797619</td>\n",
       "      <td>0.333333</td>\n",
       "      <td>0.023810</td>\n",
       "      <td>0.250000</td>\n",
       "      <td>0.285714</td>\n",
       "      <td>...</td>\n",
       "      <td>0.071429</td>\n",
       "      <td>957.702381</td>\n",
       "      <td>101.595238</td>\n",
       "      <td>206.000000</td>\n",
       "      <td>30</td>\n",
       "      <td>True</td>\n",
       "      <td>True</td>\n",
       "      <td>False</td>\n",
       "      <td>False</td>\n",
       "      <td>False</td>\n",
       "    </tr>\n",
       "    <tr>\n",
       "      <th>4</th>\n",
       "      <td>175.26</td>\n",
       "      <td>173.0</td>\n",
       "      <td>916.055556</td>\n",
       "      <td>0.319444</td>\n",
       "      <td>0.222222</td>\n",
       "      <td>2.111111</td>\n",
       "      <td>0.958333</td>\n",
       "      <td>0.041667</td>\n",
       "      <td>0.027778</td>\n",
       "      <td>0.194444</td>\n",
       "      <td>...</td>\n",
       "      <td>-0.055556</td>\n",
       "      <td>827.527778</td>\n",
       "      <td>9.736111</td>\n",
       "      <td>78.791667</td>\n",
       "      <td>24</td>\n",
       "      <td>True</td>\n",
       "      <td>False</td>\n",
       "      <td>False</td>\n",
       "      <td>True</td>\n",
       "      <td>False</td>\n",
       "    </tr>\n",
       "  </tbody>\n",
       "</table>\n",
       "<p>5 rows × 27 columns</p>\n",
       "</div>"
      ],
      "text/plain": [
       "   height_cm  weight    timeOnIce   assists     goals     shots      hits  \\\n",
       "0     180.34   180.0  1179.551282  0.358974  0.115385  2.307692  0.589744   \n",
       "1     190.50   220.0  1145.807692  0.294872  0.064103  2.115385  1.589744   \n",
       "2     187.96   206.0   706.607843  0.117647  0.098039  1.137255  1.725490   \n",
       "3     180.34   185.0  1265.297619  0.761905  0.273810  2.797619  0.333333   \n",
       "4     175.26   173.0   916.055556  0.319444  0.222222  2.111111  0.958333   \n",
       "\n",
       "   powerPlayGoals  powerPlayAssists  penaltyMinutes  ...  plusMinus  \\\n",
       "0        0.051282          0.128205        0.282051  ...  -0.256410   \n",
       "1        0.025641          0.102564        0.525641  ...  -0.076923   \n",
       "2        0.000000          0.000000        0.372549  ...  -0.156863   \n",
       "3        0.023810          0.250000        0.285714  ...   0.071429   \n",
       "4        0.041667          0.027778        0.194444  ...  -0.055556   \n",
       "\n",
       "   evenTimeOnIce  shortHandedTimeOnIce  powerPlayTimeOnIce  Age  ShootsRight  \\\n",
       "0     965.576923              5.307692          208.666667   25        False   \n",
       "1     921.166667            126.871795           97.769231   33         True   \n",
       "2     622.686275             77.764706            6.156863   30         True   \n",
       "3     957.702381            101.595238          206.000000   30         True   \n",
       "4     827.527778              9.736111           78.791667   24         True   \n",
       "\n",
       "   primaryPosition_C  primaryPosition_D  primaryPosition_LW  \\\n",
       "0              False               True               False   \n",
       "1              False               True               False   \n",
       "2              False              False               False   \n",
       "3               True              False               False   \n",
       "4              False              False                True   \n",
       "\n",
       "   primaryPosition_RW  \n",
       "0               False  \n",
       "1               False  \n",
       "2                True  \n",
       "3               False  \n",
       "4               False  \n",
       "\n",
       "[5 rows x 27 columns]"
      ]
     },
     "execution_count": 17,
     "metadata": {},
     "output_type": "execute_result"
    }
   ],
   "source": [
    "dfCorrable = pd.get_dummies(dfPlayerStats, columns=['primaryPosition'])\n",
    "dfCorrable.head()"
   ]
  },
  {
   "cell_type": "markdown",
   "metadata": {},
   "source": [
    "## Correlation Analysis"
   ]
  },
  {
   "cell_type": "code",
   "execution_count": 18,
   "metadata": {},
   "outputs": [
    {
     "data": {
      "application/vnd.plotly.v1+json": {
       "config": {
        "plotlyServerURL": "https://plot.ly"
       },
       "data": [
        {
         "colorbar": {
          "thickness": 20,
          "ticklen": 3
         },
         "type": "heatmap",
         "x": [
          "height_cm",
          "weight",
          "timeOnIce",
          "assists",
          "goals",
          "shots",
          "hits",
          "powerPlayGoals",
          "powerPlayAssists",
          "penaltyMinutes",
          "faceOffWins",
          "faceoffTaken",
          "takeaways",
          "giveaways",
          "shortHandedGoals",
          "shortHandedAssists",
          "blocked",
          "plusMinus",
          "evenTimeOnIce",
          "shortHandedTimeOnIce",
          "powerPlayTimeOnIce",
          "Age",
          "ShootsRight",
          "primaryPosition_C",
          "primaryPosition_D",
          "primaryPosition_LW",
          "primaryPosition_RW"
         ],
         "xgap": 1,
         "y": [
          "height_cm",
          "weight",
          "timeOnIce",
          "assists",
          "goals",
          "shots",
          "hits",
          "powerPlayGoals",
          "powerPlayAssists",
          "penaltyMinutes",
          "faceOffWins",
          "faceoffTaken",
          "takeaways",
          "giveaways",
          "shortHandedGoals",
          "shortHandedAssists",
          "blocked",
          "plusMinus",
          "evenTimeOnIce",
          "shortHandedTimeOnIce",
          "powerPlayTimeOnIce",
          "Age",
          "ShootsRight",
          "primaryPosition_C",
          "primaryPosition_D",
          "primaryPosition_LW",
          "primaryPosition_RW"
         ],
         "ygap": 1,
         "z": [
          [
           1,
           null,
           null,
           null,
           null,
           null,
           null,
           null,
           null,
           null,
           null,
           null,
           null,
           null,
           null,
           null,
           null,
           null,
           null,
           null,
           null,
           null,
           null,
           null,
           null,
           null,
           null
          ],
          [
           0.7086500579283119,
           1,
           null,
           null,
           null,
           null,
           null,
           null,
           null,
           null,
           null,
           null,
           null,
           null,
           null,
           null,
           null,
           null,
           null,
           null,
           null,
           null,
           null,
           null,
           null,
           null,
           null
          ],
          [
           0.14853125736917827,
           0.13034635547441645,
           1,
           null,
           null,
           null,
           null,
           null,
           null,
           null,
           null,
           null,
           null,
           null,
           null,
           null,
           null,
           null,
           null,
           null,
           null,
           null,
           null,
           null,
           null,
           null,
           null
          ],
          [
           -0.02400599302791428,
           -0.0273069902656678,
           0.6313416911258816,
           1,
           null,
           null,
           null,
           null,
           null,
           null,
           null,
           null,
           null,
           null,
           null,
           null,
           null,
           null,
           null,
           null,
           null,
           null,
           null,
           null,
           null,
           null,
           null
          ],
          [
           -0.04556822123205742,
           -0.03537379602767527,
           0.2615222207664167,
           0.44305961041409037,
           1,
           null,
           null,
           null,
           null,
           null,
           null,
           null,
           null,
           null,
           null,
           null,
           null,
           null,
           null,
           null,
           null,
           null,
           null,
           null,
           null,
           null,
           null
          ],
          [
           -0.026466125277270842,
           0.006691115462612441,
           0.592040451639438,
           0.6509091670848641,
           0.6323105040812599,
           1,
           null,
           null,
           null,
           null,
           null,
           null,
           null,
           null,
           null,
           null,
           null,
           null,
           null,
           null,
           null,
           null,
           null,
           null,
           null,
           null,
           null
          ],
          [
           0.2155243835648568,
           0.37571783806873443,
           -0.03578537055545325,
           -0.22691801647087698,
           -0.1468453822991032,
           -0.12064213565028084,
           1,
           null,
           null,
           null,
           null,
           null,
           null,
           null,
           null,
           null,
           null,
           null,
           null,
           null,
           null,
           null,
           null,
           null,
           null,
           null,
           null
          ],
          [
           -0.019815077530720867,
           -0.007695821316761287,
           0.3722463347852793,
           0.5536229144660907,
           0.5751733699713865,
           0.6462863770177191,
           -0.19124610515435386,
           1,
           null,
           null,
           null,
           null,
           null,
           null,
           null,
           null,
           null,
           null,
           null,
           null,
           null,
           null,
           null,
           null,
           null,
           null,
           null
          ],
          [
           -0.04614117115351421,
           -0.04799293068715035,
           0.5477081229761722,
           0.7920621179418694,
           0.40253232876475564,
           0.6098593305619644,
           -0.2337875733220209,
           0.5593351712273115,
           1,
           null,
           null,
           null,
           null,
           null,
           null,
           null,
           null,
           null,
           null,
           null,
           null,
           null,
           null,
           null,
           null,
           null,
           null
          ],
          [
           0.1744823036637981,
           0.20328190045187025,
           0.05972758336559918,
           0.00284929524998327,
           -0.012229915256951296,
           0.0058770318115291785,
           0.3487172806634177,
           -0.007414582702968184,
           0.008404940018246643,
           1,
           null,
           null,
           null,
           null,
           null,
           null,
           null,
           null,
           null,
           null,
           null,
           null,
           null,
           null,
           null,
           null,
           null
          ],
          [
           0.033492746776159786,
           0.03504084723041155,
           0.11694028613411267,
           0.29621184061128847,
           0.3133381924667096,
           0.26292082849939613,
           -0.11935183327049538,
           0.26884431060595815,
           0.2263666931272898,
           -0.05377407164534216,
           1,
           null,
           null,
           null,
           null,
           null,
           null,
           null,
           null,
           null,
           null,
           null,
           null,
           null,
           null,
           null,
           null
          ],
          [
           0.03195626404738436,
           0.025084646315802126,
           0.10868420127926914,
           0.29695725405784146,
           0.3151153390391821,
           0.2687569044169398,
           -0.1297515609878612,
           0.2713227377250076,
           0.2266600970460992,
           -0.058631412013884755,
           0.9945181487113564,
           1,
           null,
           null,
           null,
           null,
           null,
           null,
           null,
           null,
           null,
           null,
           null,
           null,
           null,
           null,
           null
          ],
          [
           -0.04429749692169049,
           -0.07557168885391717,
           0.38651462345671295,
           0.4498997413584699,
           0.29424722622690075,
           0.42655281144336477,
           -0.12129961713241826,
           0.3274180035157728,
           0.4022641941434112,
           -0.015252721877131574,
           0.30683381083875133,
           0.3116053463906767,
           1,
           null,
           null,
           null,
           null,
           null,
           null,
           null,
           null,
           null,
           null,
           null,
           null,
           null,
           null
          ],
          [
           0.12432743491509719,
           0.06206140989497391,
           0.6183820945573093,
           0.4381041300452347,
           0.15134672808048316,
           0.34221576551718613,
           -0.05936841261071782,
           0.25255681028658017,
           0.3944883051772703,
           0.08985273419229049,
           0.00021924097803217664,
           -0.004121156609350178,
           0.3312969385659787,
           1,
           null,
           null,
           null,
           null,
           null,
           null,
           null,
           null,
           null,
           null,
           null,
           null,
           null
          ],
          [
           -0.019067747583308654,
           -0.019493384345195403,
           0.13114295433733295,
           0.14756273079624654,
           0.2066372382534011,
           0.1902758946206361,
           -0.0022710639204874044,
           0.07516366928916685,
           0.081618884743132,
           -0.00628918713939416,
           0.2810478054170384,
           0.2806182217494025,
           0.2208252851156583,
           0.010468187011157678,
           1,
           null,
           null,
           null,
           null,
           null,
           null,
           null,
           null,
           null,
           null,
           null,
           null
          ],
          [
           0.05535670905412477,
           0.020864303620956346,
           0.2586295136425541,
           0.19263318519909697,
           0.06112301187385486,
           0.11487064442639142,
           -0.003885306534116444,
           0.030068894475338555,
           0.09666153359316679,
           0.024210496645547912,
           0.15120433117924886,
           0.14239944894292061,
           0.17703973779353305,
           0.1143186649969294,
           0.34714168194331674,
           1,
           null,
           null,
           null,
           null,
           null,
           null,
           null,
           null,
           null,
           null,
           null
          ],
          [
           0.22323999609109976,
           0.21027197943409212,
           0.5887078096387797,
           0.07945915021197109,
           -0.22404771065575954,
           -0.010503232583972363,
           0.14607281772874064,
           -0.12369684351105784,
           0.038055373753947234,
           0.08464033031828862,
           -0.19364612014547447,
           -0.20715323841821456,
           -0.019490235061557552,
           0.36437992894449744,
           -0.05340343902103874,
           0.193080523195477,
           1,
           null,
           null,
           null,
           null,
           null,
           null,
           null,
           null,
           null,
           null
          ],
          [
           0.0685546775282469,
           0.09153271336565086,
           0.15287415852130956,
           0.25382107123055625,
           0.3647599615289213,
           0.1753117415418132,
           0.06548472451208784,
           0.049665283061686785,
           0.0962371430183696,
           0.018268467497037,
           0.0515177421218175,
           0.04709268408931252,
           0.0005767171661779767,
           0.0045264861352244815,
           0.09442416835667296,
           0.1279777564105085,
           0.037731611686052276,
           1,
           null,
           null,
           null,
           null,
           null,
           null,
           null,
           null,
           null
          ],
          [
           0.1544300210682683,
           0.1198620596361011,
           0.9732775389526895,
           0.5504026733303273,
           0.18398178621078196,
           0.5091944927447258,
           -0.01038230529139617,
           0.27660381076326324,
           0.4544642730751128,
           0.06863766712065796,
           0.012793575227541976,
           0.0035761608895108236,
           0.31710780878903394,
           0.6265450208327855,
           0.05192201150365481,
           0.20000603831126282,
           0.6283907797849474,
           0.14268928713842807,
           1,
           null,
           null,
           null,
           null,
           null,
           null,
           null,
           null
          ],
          [
           0.21133877388809658,
           0.23073886630513368,
           0.5029236984743662,
           0.08009443272200101,
           -0.07948915806190818,
           0.04818719133255169,
           0.20155306938232503,
           -0.14487882742893862,
           -0.04661540379425274,
           0.06841612875087798,
           0.14880768756891688,
           0.13585568778975673,
           0.12575137575460366,
           0.1942114377865227,
           0.3199971844881112,
           0.4432665029979428,
           0.5895227953155369,
           0.1422170490471168,
           0.430053127879129,
           1,
           null,
           null,
           null,
           null,
           null,
           null,
           null
          ],
          [
           -0.05232431513481542,
           -0.03636434361420053,
           0.5840636423395253,
           0.7483013792678374,
           0.5300856652098566,
           0.7438191623030934,
           -0.2696162677149409,
           0.7367979952006386,
           0.8103775519351498,
           -0.02690903942471381,
           0.2926993755049851,
           0.29844003612504794,
           0.4546695851599463,
           0.38270151309645123,
           0.09446939268488518,
           0.050729118889445805,
           -0.0554165702262241,
           0.05458341536701953,
           0.4613596904671019,
           -0.1334244861989475,
           1,
           null,
           null,
           null,
           null,
           null,
           null
          ],
          [
           0.04590712092634923,
           0.2549801010608406,
           0.15235296993768582,
           0.08753615588742222,
           -0.02031330737113957,
           0.05363310640335475,
           0.0974341431353314,
           0.022942010438814085,
           0.04758278654844436,
           0.06700764733997924,
           0.11457530558660166,
           0.09361421847926549,
           -0.01983748308575832,
           0.017415101540451203,
           0.0781779827865076,
           0.18956242146795405,
           0.17510586771117648,
           0.0835323214939549,
           0.10045398126690912,
           0.33045988792412917,
           0.025058284931950878,
           1,
           null,
           null,
           null,
           null,
           null
          ],
          [
           0.014972832734667199,
           0.006018155467375403,
           0.05723987971215259,
           0.011921200900321146,
           -0.0020074757005928458,
           0.08040625864097663,
           0.0854014889613467,
           0.050136778218388224,
           0.03817465446895533,
           -0.02450432814811488,
           -0.033582326432522895,
           -0.0385333802511758,
           0.003003858296021334,
           0.02837979651013974,
           -0.038994716973676125,
           -0.0353558815517185,
           0.04609803124731628,
           -0.004193670884820997,
           0.048286443409511,
           0.021973058593121913,
           0.06073954051552617,
           0.0837965664448438,
           1,
           null,
           null,
           null,
           null
          ],
          [
           -0.1043291155489466,
           -0.09605505310554423,
           -0.2058101954655764,
           0.06621965900612646,
           0.1526943555753039,
           0.04764393161708897,
           -0.18285465385140737,
           0.08516291980159005,
           0.023635096015749354,
           -0.13744356594447044,
           0.622300449635934,
           0.6391648087123152,
           0.12367082668676568,
           -0.18605526772111808,
           0.1444017484482187,
           0.011435599833551066,
           -0.34258014149040383,
           0.0016471993097588703,
           -0.2810441701355114,
           -0.04673385193381399,
           0.07133074009470557,
           -0.04572139412494383,
           -0.03507349671247433,
           1,
           null,
           null,
           null
          ],
          [
           0.23362529507142732,
           0.17390506940355105,
           0.43547735772229546,
           -0.06301438152123966,
           -0.34682247960457946,
           -0.1997087010043014,
           0.10036587818225567,
           -0.23984724268794738,
           -0.03877004700690113,
           0.13174367453991476,
           -0.3869534648288428,
           -0.4056796564800514,
           -0.19457699932285938,
           0.3444368291868546,
           -0.18079195628683672,
           0.0510802716606491,
           0.7412425241967137,
           0.02581493838331667,
           0.5419536402183135,
           0.3303204042452904,
           -0.1824519304338376,
           0.05340373624412704,
           0.04395322925740977,
           -0.5018620210727814,
           1,
           null,
           null
          ],
          [
           -0.10085333675265234,
           -0.035918123925537525,
           -0.17146005405063136,
           -0.0011066401952676088,
           0.1158518958348545,
           0.08699914966807033,
           0.07907440763521772,
           0.06608445026836804,
           -0.025254745307591666,
           0.03734992496215745,
           -0.13144280154028518,
           -0.12792706573783197,
           0.01580362573070321,
           -0.13573492266585527,
           -0.00046221437123869925,
           -0.0454674192552421,
           -0.27866521445923176,
           0.015304883831183686,
           -0.19217407328134375,
           -0.17335856134385363,
           0.04438848763721228,
           -0.02851941749023357,
           -0.2742578300930624,
           -0.3130244301382111,
           -0.3498429288684807,
           1,
           null
          ],
          [
           -0.07019001571517061,
           -0.07039009647686846,
           -0.13388458478594728,
           0.00010021388209196948,
           0.1432221986583769,
           0.11271532470189272,
           0.016959851330988752,
           0.14039459357233253,
           0.04838903158495767,
           -0.03895678950841374,
           -0.144185433779131,
           -0.14463723003258558,
           0.08394161346704028,
           -0.07576212702114365,
           0.05616210856018009,
           -0.03446643915625704,
           -0.25195966542974507,
           -0.05301846934937944,
           -0.15717393277837305,
           -0.1962842612316131,
           0.10464507631111715,
           0.01799974852814134,
           0.27962474782110247,
           -0.2833189511223713,
           -0.3166434377688433,
           -0.19749876958755186,
           1
          ]
         ]
        }
       ],
       "layout": {
        "height": 800,
        "template": {
         "data": {
          "bar": [
           {
            "error_x": {
             "color": "#2a3f5f"
            },
            "error_y": {
             "color": "#2a3f5f"
            },
            "marker": {
             "line": {
              "color": "#E5ECF6",
              "width": 0.5
             },
             "pattern": {
              "fillmode": "overlay",
              "size": 10,
              "solidity": 0.2
             }
            },
            "type": "bar"
           }
          ],
          "barpolar": [
           {
            "marker": {
             "line": {
              "color": "#E5ECF6",
              "width": 0.5
             },
             "pattern": {
              "fillmode": "overlay",
              "size": 10,
              "solidity": 0.2
             }
            },
            "type": "barpolar"
           }
          ],
          "carpet": [
           {
            "aaxis": {
             "endlinecolor": "#2a3f5f",
             "gridcolor": "white",
             "linecolor": "white",
             "minorgridcolor": "white",
             "startlinecolor": "#2a3f5f"
            },
            "baxis": {
             "endlinecolor": "#2a3f5f",
             "gridcolor": "white",
             "linecolor": "white",
             "minorgridcolor": "white",
             "startlinecolor": "#2a3f5f"
            },
            "type": "carpet"
           }
          ],
          "choropleth": [
           {
            "colorbar": {
             "outlinewidth": 0,
             "ticks": ""
            },
            "type": "choropleth"
           }
          ],
          "contour": [
           {
            "colorbar": {
             "outlinewidth": 0,
             "ticks": ""
            },
            "colorscale": [
             [
              0,
              "#0d0887"
             ],
             [
              0.1111111111111111,
              "#46039f"
             ],
             [
              0.2222222222222222,
              "#7201a8"
             ],
             [
              0.3333333333333333,
              "#9c179e"
             ],
             [
              0.4444444444444444,
              "#bd3786"
             ],
             [
              0.5555555555555556,
              "#d8576b"
             ],
             [
              0.6666666666666666,
              "#ed7953"
             ],
             [
              0.7777777777777778,
              "#fb9f3a"
             ],
             [
              0.8888888888888888,
              "#fdca26"
             ],
             [
              1,
              "#f0f921"
             ]
            ],
            "type": "contour"
           }
          ],
          "contourcarpet": [
           {
            "colorbar": {
             "outlinewidth": 0,
             "ticks": ""
            },
            "type": "contourcarpet"
           }
          ],
          "heatmap": [
           {
            "colorbar": {
             "outlinewidth": 0,
             "ticks": ""
            },
            "colorscale": [
             [
              0,
              "#0d0887"
             ],
             [
              0.1111111111111111,
              "#46039f"
             ],
             [
              0.2222222222222222,
              "#7201a8"
             ],
             [
              0.3333333333333333,
              "#9c179e"
             ],
             [
              0.4444444444444444,
              "#bd3786"
             ],
             [
              0.5555555555555556,
              "#d8576b"
             ],
             [
              0.6666666666666666,
              "#ed7953"
             ],
             [
              0.7777777777777778,
              "#fb9f3a"
             ],
             [
              0.8888888888888888,
              "#fdca26"
             ],
             [
              1,
              "#f0f921"
             ]
            ],
            "type": "heatmap"
           }
          ],
          "heatmapgl": [
           {
            "colorbar": {
             "outlinewidth": 0,
             "ticks": ""
            },
            "colorscale": [
             [
              0,
              "#0d0887"
             ],
             [
              0.1111111111111111,
              "#46039f"
             ],
             [
              0.2222222222222222,
              "#7201a8"
             ],
             [
              0.3333333333333333,
              "#9c179e"
             ],
             [
              0.4444444444444444,
              "#bd3786"
             ],
             [
              0.5555555555555556,
              "#d8576b"
             ],
             [
              0.6666666666666666,
              "#ed7953"
             ],
             [
              0.7777777777777778,
              "#fb9f3a"
             ],
             [
              0.8888888888888888,
              "#fdca26"
             ],
             [
              1,
              "#f0f921"
             ]
            ],
            "type": "heatmapgl"
           }
          ],
          "histogram": [
           {
            "marker": {
             "pattern": {
              "fillmode": "overlay",
              "size": 10,
              "solidity": 0.2
             }
            },
            "type": "histogram"
           }
          ],
          "histogram2d": [
           {
            "colorbar": {
             "outlinewidth": 0,
             "ticks": ""
            },
            "colorscale": [
             [
              0,
              "#0d0887"
             ],
             [
              0.1111111111111111,
              "#46039f"
             ],
             [
              0.2222222222222222,
              "#7201a8"
             ],
             [
              0.3333333333333333,
              "#9c179e"
             ],
             [
              0.4444444444444444,
              "#bd3786"
             ],
             [
              0.5555555555555556,
              "#d8576b"
             ],
             [
              0.6666666666666666,
              "#ed7953"
             ],
             [
              0.7777777777777778,
              "#fb9f3a"
             ],
             [
              0.8888888888888888,
              "#fdca26"
             ],
             [
              1,
              "#f0f921"
             ]
            ],
            "type": "histogram2d"
           }
          ],
          "histogram2dcontour": [
           {
            "colorbar": {
             "outlinewidth": 0,
             "ticks": ""
            },
            "colorscale": [
             [
              0,
              "#0d0887"
             ],
             [
              0.1111111111111111,
              "#46039f"
             ],
             [
              0.2222222222222222,
              "#7201a8"
             ],
             [
              0.3333333333333333,
              "#9c179e"
             ],
             [
              0.4444444444444444,
              "#bd3786"
             ],
             [
              0.5555555555555556,
              "#d8576b"
             ],
             [
              0.6666666666666666,
              "#ed7953"
             ],
             [
              0.7777777777777778,
              "#fb9f3a"
             ],
             [
              0.8888888888888888,
              "#fdca26"
             ],
             [
              1,
              "#f0f921"
             ]
            ],
            "type": "histogram2dcontour"
           }
          ],
          "mesh3d": [
           {
            "colorbar": {
             "outlinewidth": 0,
             "ticks": ""
            },
            "type": "mesh3d"
           }
          ],
          "parcoords": [
           {
            "line": {
             "colorbar": {
              "outlinewidth": 0,
              "ticks": ""
             }
            },
            "type": "parcoords"
           }
          ],
          "pie": [
           {
            "automargin": true,
            "type": "pie"
           }
          ],
          "scatter": [
           {
            "fillpattern": {
             "fillmode": "overlay",
             "size": 10,
             "solidity": 0.2
            },
            "type": "scatter"
           }
          ],
          "scatter3d": [
           {
            "line": {
             "colorbar": {
              "outlinewidth": 0,
              "ticks": ""
             }
            },
            "marker": {
             "colorbar": {
              "outlinewidth": 0,
              "ticks": ""
             }
            },
            "type": "scatter3d"
           }
          ],
          "scattercarpet": [
           {
            "marker": {
             "colorbar": {
              "outlinewidth": 0,
              "ticks": ""
             }
            },
            "type": "scattercarpet"
           }
          ],
          "scattergeo": [
           {
            "marker": {
             "colorbar": {
              "outlinewidth": 0,
              "ticks": ""
             }
            },
            "type": "scattergeo"
           }
          ],
          "scattergl": [
           {
            "marker": {
             "colorbar": {
              "outlinewidth": 0,
              "ticks": ""
             }
            },
            "type": "scattergl"
           }
          ],
          "scattermapbox": [
           {
            "marker": {
             "colorbar": {
              "outlinewidth": 0,
              "ticks": ""
             }
            },
            "type": "scattermapbox"
           }
          ],
          "scatterpolar": [
           {
            "marker": {
             "colorbar": {
              "outlinewidth": 0,
              "ticks": ""
             }
            },
            "type": "scatterpolar"
           }
          ],
          "scatterpolargl": [
           {
            "marker": {
             "colorbar": {
              "outlinewidth": 0,
              "ticks": ""
             }
            },
            "type": "scatterpolargl"
           }
          ],
          "scatterternary": [
           {
            "marker": {
             "colorbar": {
              "outlinewidth": 0,
              "ticks": ""
             }
            },
            "type": "scatterternary"
           }
          ],
          "surface": [
           {
            "colorbar": {
             "outlinewidth": 0,
             "ticks": ""
            },
            "colorscale": [
             [
              0,
              "#0d0887"
             ],
             [
              0.1111111111111111,
              "#46039f"
             ],
             [
              0.2222222222222222,
              "#7201a8"
             ],
             [
              0.3333333333333333,
              "#9c179e"
             ],
             [
              0.4444444444444444,
              "#bd3786"
             ],
             [
              0.5555555555555556,
              "#d8576b"
             ],
             [
              0.6666666666666666,
              "#ed7953"
             ],
             [
              0.7777777777777778,
              "#fb9f3a"
             ],
             [
              0.8888888888888888,
              "#fdca26"
             ],
             [
              1,
              "#f0f921"
             ]
            ],
            "type": "surface"
           }
          ],
          "table": [
           {
            "cells": {
             "fill": {
              "color": "#EBF0F8"
             },
             "line": {
              "color": "white"
             }
            },
            "header": {
             "fill": {
              "color": "#C8D4E3"
             },
             "line": {
              "color": "white"
             }
            },
            "type": "table"
           }
          ]
         },
         "layout": {
          "annotationdefaults": {
           "arrowcolor": "#2a3f5f",
           "arrowhead": 0,
           "arrowwidth": 1
          },
          "autotypenumbers": "strict",
          "coloraxis": {
           "colorbar": {
            "outlinewidth": 0,
            "ticks": ""
           }
          },
          "colorscale": {
           "diverging": [
            [
             0,
             "#8e0152"
            ],
            [
             0.1,
             "#c51b7d"
            ],
            [
             0.2,
             "#de77ae"
            ],
            [
             0.3,
             "#f1b6da"
            ],
            [
             0.4,
             "#fde0ef"
            ],
            [
             0.5,
             "#f7f7f7"
            ],
            [
             0.6,
             "#e6f5d0"
            ],
            [
             0.7,
             "#b8e186"
            ],
            [
             0.8,
             "#7fbc41"
            ],
            [
             0.9,
             "#4d9221"
            ],
            [
             1,
             "#276419"
            ]
           ],
           "sequential": [
            [
             0,
             "#0d0887"
            ],
            [
             0.1111111111111111,
             "#46039f"
            ],
            [
             0.2222222222222222,
             "#7201a8"
            ],
            [
             0.3333333333333333,
             "#9c179e"
            ],
            [
             0.4444444444444444,
             "#bd3786"
            ],
            [
             0.5555555555555556,
             "#d8576b"
            ],
            [
             0.6666666666666666,
             "#ed7953"
            ],
            [
             0.7777777777777778,
             "#fb9f3a"
            ],
            [
             0.8888888888888888,
             "#fdca26"
            ],
            [
             1,
             "#f0f921"
            ]
           ],
           "sequentialminus": [
            [
             0,
             "#0d0887"
            ],
            [
             0.1111111111111111,
             "#46039f"
            ],
            [
             0.2222222222222222,
             "#7201a8"
            ],
            [
             0.3333333333333333,
             "#9c179e"
            ],
            [
             0.4444444444444444,
             "#bd3786"
            ],
            [
             0.5555555555555556,
             "#d8576b"
            ],
            [
             0.6666666666666666,
             "#ed7953"
            ],
            [
             0.7777777777777778,
             "#fb9f3a"
            ],
            [
             0.8888888888888888,
             "#fdca26"
            ],
            [
             1,
             "#f0f921"
            ]
           ]
          },
          "colorway": [
           "#636efa",
           "#EF553B",
           "#00cc96",
           "#ab63fa",
           "#FFA15A",
           "#19d3f3",
           "#FF6692",
           "#B6E880",
           "#FF97FF",
           "#FECB52"
          ],
          "font": {
           "color": "#2a3f5f"
          },
          "geo": {
           "bgcolor": "white",
           "lakecolor": "white",
           "landcolor": "#E5ECF6",
           "showlakes": true,
           "showland": true,
           "subunitcolor": "white"
          },
          "hoverlabel": {
           "align": "left"
          },
          "hovermode": "closest",
          "mapbox": {
           "style": "light"
          },
          "paper_bgcolor": "white",
          "plot_bgcolor": "#E5ECF6",
          "polar": {
           "angularaxis": {
            "gridcolor": "white",
            "linecolor": "white",
            "ticks": ""
           },
           "bgcolor": "#E5ECF6",
           "radialaxis": {
            "gridcolor": "white",
            "linecolor": "white",
            "ticks": ""
           }
          },
          "scene": {
           "xaxis": {
            "backgroundcolor": "#E5ECF6",
            "gridcolor": "white",
            "gridwidth": 2,
            "linecolor": "white",
            "showbackground": true,
            "ticks": "",
            "zerolinecolor": "white"
           },
           "yaxis": {
            "backgroundcolor": "#E5ECF6",
            "gridcolor": "white",
            "gridwidth": 2,
            "linecolor": "white",
            "showbackground": true,
            "ticks": "",
            "zerolinecolor": "white"
           },
           "zaxis": {
            "backgroundcolor": "#E5ECF6",
            "gridcolor": "white",
            "gridwidth": 2,
            "linecolor": "white",
            "showbackground": true,
            "ticks": "",
            "zerolinecolor": "white"
           }
          },
          "shapedefaults": {
           "line": {
            "color": "#2a3f5f"
           }
          },
          "ternary": {
           "aaxis": {
            "gridcolor": "white",
            "linecolor": "white",
            "ticks": ""
           },
           "baxis": {
            "gridcolor": "white",
            "linecolor": "white",
            "ticks": ""
           },
           "bgcolor": "#E5ECF6",
           "caxis": {
            "gridcolor": "white",
            "linecolor": "white",
            "ticks": ""
           }
          },
          "title": {
           "x": 0.05
          },
          "xaxis": {
           "automargin": true,
           "gridcolor": "white",
           "linecolor": "white",
           "ticks": "",
           "title": {
            "standoff": 15
           },
           "zerolinecolor": "white",
           "zerolinewidth": 2
          },
          "yaxis": {
           "automargin": true,
           "gridcolor": "white",
           "linecolor": "white",
           "ticks": "",
           "title": {
            "standoff": 15
           },
           "zerolinecolor": "white",
           "zerolinewidth": 2
          }
         }
        },
        "title": {
         "text": "Correlation Matrix",
         "x": 0.5
        },
        "xaxis": {
         "showgrid": false
        },
        "yaxis": {
         "autorange": "reversed",
         "showgrid": false
        }
       }
      }
     },
     "metadata": {},
     "output_type": "display_data"
    }
   ],
   "source": [
    "corr = dfCorrable.corr()\n",
    "\n",
    "mask = np.triu(np.ones_like(corr, dtype=bool), k=1)\n",
    "\n",
    "import plotly.graph_objects as go\n",
    "\n",
    "# Create a masked correlation matrix\n",
    "masked_corr = corr.mask(mask)\n",
    "#masked_corr = masked_corr.iloc[::-1,::-1]\n",
    "\n",
    "heat = go.Heatmap(z=masked_corr,\n",
    "                  x=dfCorrable.columns,\n",
    "                  y=dfCorrable.columns,\n",
    "                  xgap=1, ygap=1,\n",
    "                  colorbar_thickness=20,\n",
    "                  colorbar_ticklen=3,\n",
    "                   )\n",
    "\n",
    "\n",
    "title = 'Correlation Matrix'               \n",
    "\n",
    "layout = go.Layout(title_text=title, title_x=0.5, \n",
    "                   height=800,\n",
    "                   xaxis_showgrid=False,\n",
    "                   yaxis_showgrid=False,\n",
    "                   yaxis_autorange='reversed')\n",
    "   \n",
    "fig=go.Figure(data=[heat], layout=layout)        \n",
    "fig.show() "
   ]
  },
  {
   "cell_type": "markdown",
   "metadata": {},
   "source": [
    "## Test / Train Split"
   ]
  },
  {
   "cell_type": "code",
   "execution_count": 19,
   "metadata": {},
   "outputs": [],
   "source": [
    "# Identify features (X) and label (y)\n",
    "X = dfPlayerStats.drop(columns=['primaryPosition']) # These are our features - they factor into what the value of label should be\n",
    "y = dfPlayerStats['primaryPosition'] # This is our label - the thing we're trying to predict"
   ]
  },
  {
   "cell_type": "code",
   "execution_count": 20,
   "metadata": {},
   "outputs": [],
   "source": [
    "# Split the data into a training set and a test set\n",
    "from sklearn.model_selection import train_test_split\n",
    "\n",
    "X_train, X_test, y_train, y_test = train_test_split(X, y, test_size=0.2, random_state=42)"
   ]
  },
  {
   "cell_type": "markdown",
   "metadata": {},
   "source": [
    "## Model Fitting"
   ]
  },
  {
   "cell_type": "code",
   "execution_count": 21,
   "metadata": {},
   "outputs": [
    {
     "data": {
      "text/html": [
       "<style>#sk-container-id-1 {color: black;background-color: white;}#sk-container-id-1 pre{padding: 0;}#sk-container-id-1 div.sk-toggleable {background-color: white;}#sk-container-id-1 label.sk-toggleable__label {cursor: pointer;display: block;width: 100%;margin-bottom: 0;padding: 0.3em;box-sizing: border-box;text-align: center;}#sk-container-id-1 label.sk-toggleable__label-arrow:before {content: \"▸\";float: left;margin-right: 0.25em;color: #696969;}#sk-container-id-1 label.sk-toggleable__label-arrow:hover:before {color: black;}#sk-container-id-1 div.sk-estimator:hover label.sk-toggleable__label-arrow:before {color: black;}#sk-container-id-1 div.sk-toggleable__content {max-height: 0;max-width: 0;overflow: hidden;text-align: left;background-color: #f0f8ff;}#sk-container-id-1 div.sk-toggleable__content pre {margin: 0.2em;color: black;border-radius: 0.25em;background-color: #f0f8ff;}#sk-container-id-1 input.sk-toggleable__control:checked~div.sk-toggleable__content {max-height: 200px;max-width: 100%;overflow: auto;}#sk-container-id-1 input.sk-toggleable__control:checked~label.sk-toggleable__label-arrow:before {content: \"▾\";}#sk-container-id-1 div.sk-estimator input.sk-toggleable__control:checked~label.sk-toggleable__label {background-color: #d4ebff;}#sk-container-id-1 div.sk-label input.sk-toggleable__control:checked~label.sk-toggleable__label {background-color: #d4ebff;}#sk-container-id-1 input.sk-hidden--visually {border: 0;clip: rect(1px 1px 1px 1px);clip: rect(1px, 1px, 1px, 1px);height: 1px;margin: -1px;overflow: hidden;padding: 0;position: absolute;width: 1px;}#sk-container-id-1 div.sk-estimator {font-family: monospace;background-color: #f0f8ff;border: 1px dotted black;border-radius: 0.25em;box-sizing: border-box;margin-bottom: 0.5em;}#sk-container-id-1 div.sk-estimator:hover {background-color: #d4ebff;}#sk-container-id-1 div.sk-parallel-item::after {content: \"\";width: 100%;border-bottom: 1px solid gray;flex-grow: 1;}#sk-container-id-1 div.sk-label:hover label.sk-toggleable__label {background-color: #d4ebff;}#sk-container-id-1 div.sk-serial::before {content: \"\";position: absolute;border-left: 1px solid gray;box-sizing: border-box;top: 0;bottom: 0;left: 50%;z-index: 0;}#sk-container-id-1 div.sk-serial {display: flex;flex-direction: column;align-items: center;background-color: white;padding-right: 0.2em;padding-left: 0.2em;position: relative;}#sk-container-id-1 div.sk-item {position: relative;z-index: 1;}#sk-container-id-1 div.sk-parallel {display: flex;align-items: stretch;justify-content: center;background-color: white;position: relative;}#sk-container-id-1 div.sk-item::before, #sk-container-id-1 div.sk-parallel-item::before {content: \"\";position: absolute;border-left: 1px solid gray;box-sizing: border-box;top: 0;bottom: 0;left: 50%;z-index: -1;}#sk-container-id-1 div.sk-parallel-item {display: flex;flex-direction: column;z-index: 1;position: relative;background-color: white;}#sk-container-id-1 div.sk-parallel-item:first-child::after {align-self: flex-end;width: 50%;}#sk-container-id-1 div.sk-parallel-item:last-child::after {align-self: flex-start;width: 50%;}#sk-container-id-1 div.sk-parallel-item:only-child::after {width: 0;}#sk-container-id-1 div.sk-dashed-wrapped {border: 1px dashed gray;margin: 0 0.4em 0.5em 0.4em;box-sizing: border-box;padding-bottom: 0.4em;background-color: white;}#sk-container-id-1 div.sk-label label {font-family: monospace;font-weight: bold;display: inline-block;line-height: 1.2em;}#sk-container-id-1 div.sk-label-container {text-align: center;}#sk-container-id-1 div.sk-container {/* jupyter's `normalize.less` sets `[hidden] { display: none; }` but bootstrap.min.css set `[hidden] { display: none !important; }` so we also need the `!important` here to be able to override the default hidden behavior on the sphinx rendered scikit-learn.org. See: https://github.com/scikit-learn/scikit-learn/issues/21755 */display: inline-block !important;position: relative;}#sk-container-id-1 div.sk-text-repr-fallback {display: none;}</style><div id=\"sk-container-id-1\" class=\"sk-top-container\"><div class=\"sk-text-repr-fallback\"><pre>Pipeline(steps=[(&#x27;imputer&#x27;, SimpleImputer()), (&#x27;scaler&#x27;, MinMaxScaler()),\n",
       "                (&#x27;model&#x27;, RandomForestClassifier())])</pre><b>In a Jupyter environment, please rerun this cell to show the HTML representation or trust the notebook. <br />On GitHub, the HTML representation is unable to render, please try loading this page with nbviewer.org.</b></div><div class=\"sk-container\" hidden><div class=\"sk-item sk-dashed-wrapped\"><div class=\"sk-label-container\"><div class=\"sk-label sk-toggleable\"><input class=\"sk-toggleable__control sk-hidden--visually\" id=\"sk-estimator-id-1\" type=\"checkbox\" ><label for=\"sk-estimator-id-1\" class=\"sk-toggleable__label sk-toggleable__label-arrow\">Pipeline</label><div class=\"sk-toggleable__content\"><pre>Pipeline(steps=[(&#x27;imputer&#x27;, SimpleImputer()), (&#x27;scaler&#x27;, MinMaxScaler()),\n",
       "                (&#x27;model&#x27;, RandomForestClassifier())])</pre></div></div></div><div class=\"sk-serial\"><div class=\"sk-item\"><div class=\"sk-estimator sk-toggleable\"><input class=\"sk-toggleable__control sk-hidden--visually\" id=\"sk-estimator-id-2\" type=\"checkbox\" ><label for=\"sk-estimator-id-2\" class=\"sk-toggleable__label sk-toggleable__label-arrow\">SimpleImputer</label><div class=\"sk-toggleable__content\"><pre>SimpleImputer()</pre></div></div></div><div class=\"sk-item\"><div class=\"sk-estimator sk-toggleable\"><input class=\"sk-toggleable__control sk-hidden--visually\" id=\"sk-estimator-id-3\" type=\"checkbox\" ><label for=\"sk-estimator-id-3\" class=\"sk-toggleable__label sk-toggleable__label-arrow\">MinMaxScaler</label><div class=\"sk-toggleable__content\"><pre>MinMaxScaler()</pre></div></div></div><div class=\"sk-item\"><div class=\"sk-estimator sk-toggleable\"><input class=\"sk-toggleable__control sk-hidden--visually\" id=\"sk-estimator-id-4\" type=\"checkbox\" ><label for=\"sk-estimator-id-4\" class=\"sk-toggleable__label sk-toggleable__label-arrow\">RandomForestClassifier</label><div class=\"sk-toggleable__content\"><pre>RandomForestClassifier()</pre></div></div></div></div></div></div></div>"
      ],
      "text/plain": [
       "Pipeline(steps=[('imputer', SimpleImputer()), ('scaler', MinMaxScaler()),\n",
       "                ('model', RandomForestClassifier())])"
      ]
     },
     "execution_count": 21,
     "metadata": {},
     "output_type": "execute_result"
    }
   ],
   "source": [
    "from sklearn.pipeline import Pipeline\n",
    "from sklearn.preprocessing import MinMaxScaler\n",
    "from sklearn.impute import SimpleImputer\n",
    "\n",
    "# Algorithm options\n",
    "from sklearn.linear_model import LogisticRegression\n",
    "from sklearn.ensemble import RandomForestClassifier\n",
    "from sklearn.tree import DecisionTreeClassifier\n",
    "from sklearn.svm import SVC\n",
    "from sklearn.naive_bayes import GaussianNB\n",
    "\n",
    "# Select a model trainer\n",
    "#model = DecisionTreeClassifier()\n",
    "model = RandomForestClassifier()\n",
    "#model = LogisticRegression()\n",
    "#model = SVC(probability=True)\n",
    "#model = GaussianNB()\n",
    "\n",
    "# Create a pipeline\n",
    "pipe = Pipeline([\n",
    "    ('imputer', SimpleImputer(strategy='mean')),\n",
    "    ('scaler', MinMaxScaler((0, 1))), \n",
    "    ('model', model)\n",
    "])\n",
    "\n",
    "# Actually train our model\n",
    "pipe.fit(X_train, y_train)"
   ]
  },
  {
   "cell_type": "markdown",
   "metadata": {},
   "source": [
    "## Model Evaluation"
   ]
  },
  {
   "cell_type": "code",
   "execution_count": 22,
   "metadata": {},
   "outputs": [
    {
     "name": "stdout",
     "output_type": "stream",
     "text": [
      "              precision    recall  f1-score   support\n",
      "\n",
      "           C       0.72      0.72      0.72        61\n",
      "           D       0.85      0.98      0.91        58\n",
      "          LW       0.68      0.66      0.67        38\n",
      "          RW       0.71      0.48      0.57        25\n",
      "\n",
      "    accuracy                           0.76       182\n",
      "   macro avg       0.74      0.71      0.72       182\n",
      "weighted avg       0.75      0.76      0.75       182\n",
      "\n"
     ]
    }
   ],
   "source": [
    "# Evaluate the model\n",
    "from sklearn.metrics import classification_report\n",
    "\n",
    "y_pred = pipe.predict(X_test)\n",
    "print(classification_report(y_test, y_pred))"
   ]
  },
  {
   "cell_type": "code",
   "execution_count": 23,
   "metadata": {},
   "outputs": [
    {
     "data": {
      "image/png": "[encoded data removed]",
      "text/plain": [
       "<Figure size 640x480 with 2 Axes>"
      ]
     },
     "metadata": {},
     "output_type": "display_data"
    },
    {
     "data": {
      "image/png": "[encoded data removed]",
      "text/plain": [
       "<Figure size 640x480 with 2 Axes>"
      ]
     },
     "metadata": {},
     "output_type": "display_data"
    }
   ],
   "source": [
    "from sklearn.metrics import ConfusionMatrixDisplay\n",
    "import matplotlib.pyplot as plt\n",
    "\n",
    "# Plot non-normalized confusion matrix\n",
    "titles_options = [\n",
    "    (\"Confusion Matrix\", None),\n",
    "    (\"Normalized confusion matrix\", \"true\"),\n",
    "]\n",
    "for title, normalize in titles_options:\n",
    "    disp = ConfusionMatrixDisplay.from_estimator(\n",
    "        pipe,\n",
    "        X_test,\n",
    "        y_test,\n",
    "        cmap=plt.cm.Blues,\n",
    "        normalize=normalize,\n",
    "    )\n",
    "    disp.ax_.set_title(title)\n",
    "\n",
    "plt.show()"
   ]
  },
  {
   "cell_type": "markdown",
   "metadata": {},
   "source": [
    "## Feature Importances"
   ]
  },
  {
   "cell_type": "code",
   "execution_count": 24,
   "metadata": {},
   "outputs": [
    {
     "data": {
      "application/vnd.plotly.v1+json": {
       "config": {
        "plotlyServerURL": "https://plot.ly"
       },
       "data": [
        {
         "alignmentgroup": "True",
         "hovertemplate": "Feature=%{x}<br>Importance=%{y}<br>color=%{marker.color}<extra></extra>",
         "legendgroup": "",
         "marker": {
          "color": [
           0.1851658944553724,
           0.17865578429857787,
           0.09681944672969926,
           0.06068475395974841,
           0.04463402027077824,
           0.0405095402305412,
           0.03601318679823219,
           0.03532777306276271,
           0.03176641967457027,
           0.031628633078059055
          ],
          "coloraxis": "coloraxis",
          "pattern": {
           "shape": ""
          }
         },
         "name": "",
         "offsetgroup": "",
         "orientation": "v",
         "showlegend": false,
         "textposition": "auto",
         "type": "bar",
         "x": [
          "faceOffWins",
          "faceoffTaken",
          "blocked",
          "evenTimeOnIce",
          "timeOnIce",
          "goals",
          "ShootsRight",
          "shortHandedTimeOnIce",
          "giveaways",
          "shots"
         ],
         "xaxis": "x",
         "y": [
          0.1851658944553724,
          0.17865578429857787,
          0.09681944672969926,
          0.06068475395974841,
          0.04463402027077824,
          0.0405095402305412,
          0.03601318679823219,
          0.03532777306276271,
          0.03176641967457027,
          0.031628633078059055
         ],
         "yaxis": "y"
        }
       ],
       "layout": {
        "barmode": "relative",
        "coloraxis": {
         "colorbar": {
          "title": {
           "text": "color"
          }
         },
         "colorscale": [
          [
           0,
           "rgb(75, 41, 145)"
          ],
          [
           0.16666666666666666,
           "rgb(135, 44, 162)"
          ],
          [
           0.3333333333333333,
           "rgb(192, 54, 157)"
          ],
          [
           0.5,
           "rgb(234, 79, 136)"
          ],
          [
           0.6666666666666666,
           "rgb(250, 120, 118)"
          ],
          [
           0.8333333333333334,
           "rgb(246, 169, 122)"
          ],
          [
           1,
           "rgb(237, 217, 163)"
          ]
         ]
        },
        "legend": {
         "tracegroupgap": 0
        },
        "template": {
         "data": {
          "bar": [
           {
            "error_x": {
             "color": "#2a3f5f"
            },
            "error_y": {
             "color": "#2a3f5f"
            },
            "marker": {
             "line": {
              "color": "white",
              "width": 0.5
             },
             "pattern": {
              "fillmode": "overlay",
              "size": 10,
              "solidity": 0.2
             }
            },
            "type": "bar"
           }
          ],
          "barpolar": [
           {
            "marker": {
             "line": {
              "color": "white",
              "width": 0.5
             },
             "pattern": {
              "fillmode": "overlay",
              "size": 10,
              "solidity": 0.2
             }
            },
            "type": "barpolar"
           }
          ],
          "carpet": [
           {
            "aaxis": {
             "endlinecolor": "#2a3f5f",
             "gridcolor": "#C8D4E3",
             "linecolor": "#C8D4E3",
             "minorgridcolor": "#C8D4E3",
             "startlinecolor": "#2a3f5f"
            },
            "baxis": {
             "endlinecolor": "#2a3f5f",
             "gridcolor": "#C8D4E3",
             "linecolor": "#C8D4E3",
             "minorgridcolor": "#C8D4E3",
             "startlinecolor": "#2a3f5f"
            },
            "type": "carpet"
           }
          ],
          "choropleth": [
           {
            "colorbar": {
             "outlinewidth": 0,
             "ticks": ""
            },
            "type": "choropleth"
           }
          ],
          "contour": [
           {
            "colorbar": {
             "outlinewidth": 0,
             "ticks": ""
            },
            "colorscale": [
             [
              0,
              "#0d0887"
             ],
             [
              0.1111111111111111,
              "#46039f"
             ],
             [
              0.2222222222222222,
              "#7201a8"
             ],
             [
              0.3333333333333333,
              "#9c179e"
             ],
             [
              0.4444444444444444,
              "#bd3786"
             ],
             [
              0.5555555555555556,
              "#d8576b"
             ],
             [
              0.6666666666666666,
              "#ed7953"
             ],
             [
              0.7777777777777778,
              "#fb9f3a"
             ],
             [
              0.8888888888888888,
              "#fdca26"
             ],
             [
              1,
              "#f0f921"
             ]
            ],
            "type": "contour"
           }
          ],
          "contourcarpet": [
           {
            "colorbar": {
             "outlinewidth": 0,
             "ticks": ""
            },
            "type": "contourcarpet"
           }
          ],
          "heatmap": [
           {
            "colorbar": {
             "outlinewidth": 0,
             "ticks": ""
            },
            "colorscale": [
             [
              0,
              "#0d0887"
             ],
             [
              0.1111111111111111,
              "#46039f"
             ],
             [
              0.2222222222222222,
              "#7201a8"
             ],
             [
              0.3333333333333333,
              "#9c179e"
             ],
             [
              0.4444444444444444,
              "#bd3786"
             ],
             [
              0.5555555555555556,
              "#d8576b"
             ],
             [
              0.6666666666666666,
              "#ed7953"
             ],
             [
              0.7777777777777778,
              "#fb9f3a"
             ],
             [
              0.8888888888888888,
              "#fdca26"
             ],
             [
              1,
              "#f0f921"
             ]
            ],
            "type": "heatmap"
           }
          ],
          "heatmapgl": [
           {
            "colorbar": {
             "outlinewidth": 0,
             "ticks": ""
            },
            "colorscale": [
             [
              0,
              "#0d0887"
             ],
             [
              0.1111111111111111,
              "#46039f"
             ],
             [
              0.2222222222222222,
              "#7201a8"
             ],
             [
              0.3333333333333333,
              "#9c179e"
             ],
             [
              0.4444444444444444,
              "#bd3786"
             ],
             [
              0.5555555555555556,
              "#d8576b"
             ],
             [
              0.6666666666666666,
              "#ed7953"
             ],
             [
              0.7777777777777778,
              "#fb9f3a"
             ],
             [
              0.8888888888888888,
              "#fdca26"
             ],
             [
              1,
              "#f0f921"
             ]
            ],
            "type": "heatmapgl"
           }
          ],
          "histogram": [
           {
            "marker": {
             "pattern": {
              "fillmode": "overlay",
              "size": 10,
              "solidity": 0.2
             }
            },
            "type": "histogram"
           }
          ],
          "histogram2d": [
           {
            "colorbar": {
             "outlinewidth": 0,
             "ticks": ""
            },
            "colorscale": [
             [
              0,
              "#0d0887"
             ],
             [
              0.1111111111111111,
              "#46039f"
             ],
             [
              0.2222222222222222,
              "#7201a8"
             ],
             [
              0.3333333333333333,
              "#9c179e"
             ],
             [
              0.4444444444444444,
              "#bd3786"
             ],
             [
              0.5555555555555556,
              "#d8576b"
             ],
             [
              0.6666666666666666,
              "#ed7953"
             ],
             [
              0.7777777777777778,
              "#fb9f3a"
             ],
             [
              0.8888888888888888,
              "#fdca26"
             ],
             [
              1,
              "#f0f921"
             ]
            ],
            "type": "histogram2d"
           }
          ],
          "histogram2dcontour": [
           {
            "colorbar": {
             "outlinewidth": 0,
             "ticks": ""
            },
            "colorscale": [
             [
              0,
              "#0d0887"
             ],
             [
              0.1111111111111111,
              "#46039f"
             ],
             [
              0.2222222222222222,
              "#7201a8"
             ],
             [
              0.3333333333333333,
              "#9c179e"
             ],
             [
              0.4444444444444444,
              "#bd3786"
             ],
             [
              0.5555555555555556,
              "#d8576b"
             ],
             [
              0.6666666666666666,
              "#ed7953"
             ],
             [
              0.7777777777777778,
              "#fb9f3a"
             ],
             [
              0.8888888888888888,
              "#fdca26"
             ],
             [
              1,
              "#f0f921"
             ]
            ],
            "type": "histogram2dcontour"
           }
          ],
          "mesh3d": [
           {
            "colorbar": {
             "outlinewidth": 0,
             "ticks": ""
            },
            "type": "mesh3d"
           }
          ],
          "parcoords": [
           {
            "line": {
             "colorbar": {
              "outlinewidth": 0,
              "ticks": ""
             }
            },
            "type": "parcoords"
           }
          ],
          "pie": [
           {
            "automargin": true,
            "type": "pie"
           }
          ],
          "scatter": [
           {
            "fillpattern": {
             "fillmode": "overlay",
             "size": 10,
             "solidity": 0.2
            },
            "type": "scatter"
           }
          ],
          "scatter3d": [
           {
            "line": {
             "colorbar": {
              "outlinewidth": 0,
              "ticks": ""
             }
            },
            "marker": {
             "colorbar": {
              "outlinewidth": 0,
              "ticks": ""
             }
            },
            "type": "scatter3d"
           }
          ],
          "scattercarpet": [
           {
            "marker": {
             "colorbar": {
              "outlinewidth": 0,
              "ticks": ""
             }
            },
            "type": "scattercarpet"
           }
          ],
          "scattergeo": [
           {
            "marker": {
             "colorbar": {
              "outlinewidth": 0,
              "ticks": ""
             }
            },
            "type": "scattergeo"
           }
          ],
          "scattergl": [
           {
            "marker": {
             "colorbar": {
              "outlinewidth": 0,
              "ticks": ""
             }
            },
            "type": "scattergl"
           }
          ],
          "scattermapbox": [
           {
            "marker": {
             "colorbar": {
              "outlinewidth": 0,
              "ticks": ""
             }
            },
            "type": "scattermapbox"
           }
          ],
          "scatterpolar": [
           {
            "marker": {
             "colorbar": {
              "outlinewidth": 0,
              "ticks": ""
             }
            },
            "type": "scatterpolar"
           }
          ],
          "scatterpolargl": [
           {
            "marker": {
             "colorbar": {
              "outlinewidth": 0,
              "ticks": ""
             }
            },
            "type": "scatterpolargl"
           }
          ],
          "scatterternary": [
           {
            "marker": {
             "colorbar": {
              "outlinewidth": 0,
              "ticks": ""
             }
            },
            "type": "scatterternary"
           }
          ],
          "surface": [
           {
            "colorbar": {
             "outlinewidth": 0,
             "ticks": ""
            },
            "colorscale": [
             [
              0,
              "#0d0887"
             ],
             [
              0.1111111111111111,
              "#46039f"
             ],
             [
              0.2222222222222222,
              "#7201a8"
             ],
             [
              0.3333333333333333,
              "#9c179e"
             ],
             [
              0.4444444444444444,
              "#bd3786"
             ],
             [
              0.5555555555555556,
              "#d8576b"
             ],
             [
              0.6666666666666666,
              "#ed7953"
             ],
             [
              0.7777777777777778,
              "#fb9f3a"
             ],
             [
              0.8888888888888888,
              "#fdca26"
             ],
             [
              1,
              "#f0f921"
             ]
            ],
            "type": "surface"
           }
          ],
          "table": [
           {
            "cells": {
             "fill": {
              "color": "#EBF0F8"
             },
             "line": {
              "color": "white"
             }
            },
            "header": {
             "fill": {
              "color": "#C8D4E3"
             },
             "line": {
              "color": "white"
             }
            },
            "type": "table"
           }
          ]
         },
         "layout": {
          "annotationdefaults": {
           "arrowcolor": "#2a3f5f",
           "arrowhead": 0,
           "arrowwidth": 1
          },
          "autotypenumbers": "strict",
          "coloraxis": {
           "colorbar": {
            "outlinewidth": 0,
            "ticks": ""
           }
          },
          "colorscale": {
           "diverging": [
            [
             0,
             "#8e0152"
            ],
            [
             0.1,
             "#c51b7d"
            ],
            [
             0.2,
             "#de77ae"
            ],
            [
             0.3,
             "#f1b6da"
            ],
            [
             0.4,
             "#fde0ef"
            ],
            [
             0.5,
             "#f7f7f7"
            ],
            [
             0.6,
             "#e6f5d0"
            ],
            [
             0.7,
             "#b8e186"
            ],
            [
             0.8,
             "#7fbc41"
            ],
            [
             0.9,
             "#4d9221"
            ],
            [
             1,
             "#276419"
            ]
           ],
           "sequential": [
            [
             0,
             "#0d0887"
            ],
            [
             0.1111111111111111,
             "#46039f"
            ],
            [
             0.2222222222222222,
             "#7201a8"
            ],
            [
             0.3333333333333333,
             "#9c179e"
            ],
            [
             0.4444444444444444,
             "#bd3786"
            ],
            [
             0.5555555555555556,
             "#d8576b"
            ],
            [
             0.6666666666666666,
             "#ed7953"
            ],
            [
             0.7777777777777778,
             "#fb9f3a"
            ],
            [
             0.8888888888888888,
             "#fdca26"
            ],
            [
             1,
             "#f0f921"
            ]
           ],
           "sequentialminus": [
            [
             0,
             "#0d0887"
            ],
            [
             0.1111111111111111,
             "#46039f"
            ],
            [
             0.2222222222222222,
             "#7201a8"
            ],
            [
             0.3333333333333333,
             "#9c179e"
            ],
            [
             0.4444444444444444,
             "#bd3786"
            ],
            [
             0.5555555555555556,
             "#d8576b"
            ],
            [
             0.6666666666666666,
             "#ed7953"
            ],
            [
             0.7777777777777778,
             "#fb9f3a"
            ],
            [
             0.8888888888888888,
             "#fdca26"
            ],
            [
             1,
             "#f0f921"
            ]
           ]
          },
          "colorway": [
           "#636efa",
           "#EF553B",
           "#00cc96",
           "#ab63fa",
           "#FFA15A",
           "#19d3f3",
           "#FF6692",
           "#B6E880",
           "#FF97FF",
           "#FECB52"
          ],
          "font": {
           "color": "#2a3f5f"
          },
          "geo": {
           "bgcolor": "white",
           "lakecolor": "white",
           "landcolor": "white",
           "showlakes": true,
           "showland": true,
           "subunitcolor": "#C8D4E3"
          },
          "hoverlabel": {
           "align": "left"
          },
          "hovermode": "closest",
          "mapbox": {
           "style": "light"
          },
          "paper_bgcolor": "white",
          "plot_bgcolor": "white",
          "polar": {
           "angularaxis": {
            "gridcolor": "#EBF0F8",
            "linecolor": "#EBF0F8",
            "ticks": ""
           },
           "bgcolor": "white",
           "radialaxis": {
            "gridcolor": "#EBF0F8",
            "linecolor": "#EBF0F8",
            "ticks": ""
           }
          },
          "scene": {
           "xaxis": {
            "backgroundcolor": "white",
            "gridcolor": "#DFE8F3",
            "gridwidth": 2,
            "linecolor": "#EBF0F8",
            "showbackground": true,
            "ticks": "",
            "zerolinecolor": "#EBF0F8"
           },
           "yaxis": {
            "backgroundcolor": "white",
            "gridcolor": "#DFE8F3",
            "gridwidth": 2,
            "linecolor": "#EBF0F8",
            "showbackground": true,
            "ticks": "",
            "zerolinecolor": "#EBF0F8"
           },
           "zaxis": {
            "backgroundcolor": "white",
            "gridcolor": "#DFE8F3",
            "gridwidth": 2,
            "linecolor": "#EBF0F8",
            "showbackground": true,
            "ticks": "",
            "zerolinecolor": "#EBF0F8"
           }
          },
          "shapedefaults": {
           "line": {
            "color": "#2a3f5f"
           }
          },
          "ternary": {
           "aaxis": {
            "gridcolor": "#DFE8F3",
            "linecolor": "#A2B1C6",
            "ticks": ""
           },
           "baxis": {
            "gridcolor": "#DFE8F3",
            "linecolor": "#A2B1C6",
            "ticks": ""
           },
           "bgcolor": "white",
           "caxis": {
            "gridcolor": "#DFE8F3",
            "linecolor": "#A2B1C6",
            "ticks": ""
           }
          },
          "title": {
           "x": 0.05
          },
          "xaxis": {
           "automargin": true,
           "gridcolor": "#EBF0F8",
           "linecolor": "#EBF0F8",
           "ticks": "",
           "title": {
            "standoff": 15
           },
           "zerolinecolor": "#EBF0F8",
           "zerolinewidth": 2
          },
          "yaxis": {
           "automargin": true,
           "gridcolor": "#EBF0F8",
           "linecolor": "#EBF0F8",
           "ticks": "",
           "title": {
            "standoff": 15
           },
           "zerolinecolor": "#EBF0F8",
           "zerolinewidth": 2
          }
         }
        },
        "title": {
         "text": "Top Features by Importance"
        },
        "xaxis": {
         "anchor": "y",
         "domain": [
          0,
          1
         ],
         "title": {
          "text": "Feature"
         }
        },
        "yaxis": {
         "anchor": "x",
         "domain": [
          0,
          1
         ],
         "title": {
          "text": "Importance"
         }
        }
       }
      }
     },
     "metadata": {},
     "output_type": "display_data"
    }
   ],
   "source": [
    "# Calculate feature importance for our model\n",
    "importances = model.feature_importances_\n",
    "indices = np.argsort(importances)[::-1][:10]\n",
    "\n",
    "# Plot the feature importances using plotly.express\n",
    "px.bar(x=X.columns[indices], y=importances[indices], title='Top Features by Importance', color=importances[indices], labels={'x': 'Feature', 'y': 'Importance'}, orientation='v')"
   ]
  },
  {
   "cell_type": "markdown",
   "metadata": {},
   "source": [
    "## Generating Predictions"
   ]
  },
  {
   "cell_type": "code",
   "execution_count": 25,
   "metadata": {},
   "outputs": [
    {
     "data": {
      "text/plain": [
       "array(['C'], dtype=object)"
      ]
     },
     "execution_count": 25,
     "metadata": {},
     "output_type": "execute_result"
    }
   ],
   "source": [
    "# Create a sample player to test the model\n",
    "sample_player = pd.DataFrame({\n",
    "    'height_cm': [180],\n",
    "    'weight': [180],\n",
    "    'timeOnIce': [1200],\n",
    "    'assists': [20],\n",
    "    'goals': [5],\n",
    "    'shots': [100],\n",
    "    'hits': [50],\n",
    "    'powerPlayGoals': [1],\n",
    "    'powerPlayAssists': [5],\n",
    "    'penaltyMinutes': [20],\n",
    "    'faceOffWins': [100],\n",
    "    'faceoffTaken': [200],\n",
    "    'takeaways': [10],\n",
    "    'giveaways': [5],\n",
    "    'shortHandedGoals': [1],\n",
    "    'shortHandedAssists': [2],\n",
    "    'blocked': [50],\n",
    "    'plusMinus': [5],\n",
    "    'evenTimeOnIce': [1000],\n",
    "    'shortHandedTimeOnIce': [100],\n",
    "    'powerPlayTimeOnIce': [100],\n",
    "    'Age': [25],\n",
    "    'ShootsRight': [True]\n",
    "})\n",
    "\n",
    "# Predict whether the sample player is a defenseman\n",
    "pipe.predict(sample_player)"
   ]
  },
  {
   "cell_type": "code",
   "execution_count": 26,
   "metadata": {},
   "outputs": [
    {
     "data": {
      "text/plain": [
       "array([[0.39, 0.09, 0.19, 0.33]])"
      ]
     },
     "execution_count": 26,
     "metadata": {},
     "output_type": "execute_result"
    }
   ],
   "source": [
    "pipe.predict_proba(sample_player)"
   ]
  },
  {
   "cell_type": "code",
   "execution_count": 27,
   "metadata": {},
   "outputs": [
    {
     "data": {
      "text/plain": [
       "array(['C', 'D', 'LW', 'RW'], dtype=object)"
      ]
     },
     "execution_count": 27,
     "metadata": {},
     "output_type": "execute_result"
    }
   ],
   "source": [
    "# Figure out what predict_proba refers to for each label\n",
    "pipe.classes_"
   ]
  },
  {
   "cell_type": "code",
   "execution_count": 28,
   "metadata": {},
   "outputs": [
    {
     "data": {
      "text/plain": [
       "['nhl_position_model.pkl']"
      ]
     },
     "execution_count": 28,
     "metadata": {},
     "output_type": "execute_result"
    }
   ],
   "source": [
    "# Save our model to disk\n",
    "import joblib\n",
    "\n",
    "joblib.dump(pipe, 'nhl_position_model.pkl')"
   ]
  }
 ],
 "metadata": {
  "kernelspec": {
   "display_name": "base",
   "language": "python",
   "name": "python3"
  },
  "language_info": {
   "codemirror_mode": {
    "name": "ipython",
    "version": 3
   },
   "file_extension": ".py",
   "mimetype": "text/x-python",
   "name": "python",
   "nbconvert_exporter": "python",
   "pygments_lexer": "ipython3",
   "version": "3.11.7"
  }
 },
 "nbformat": 4,
 "nbformat_minor": 2
}
