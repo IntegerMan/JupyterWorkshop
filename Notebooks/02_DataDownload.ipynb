{
 "cells": [
  {
   "cell_type": "markdown",
   "metadata": {},
   "source": [
    "# Exploratory Data Analysis (EDA)\n",
    "\n",
    "This notebook will focus on exploring tabular data through DataFrames\n",
    "\n",
    "**Note:** If you didn't use [Anaconda](https://anaconda.com), you may need to do `%pip install` on any missing libraryies."
   ]
  },
  {
   "cell_type": "markdown",
   "metadata": {},
   "source": [
    "## Extract Data Files\n",
    "Some of the files in this dataset were too large to include as stand-alone files, so we need to extract the zip file containing our data"
   ]
  },
  {
   "cell_type": "code",
   "execution_count": 5,
   "metadata": {},
   "outputs": [
    {
     "name": "stdout",
     "output_type": "stream",
     "text": [
      "Downloading data file...\n",
      "Data Zip downloaded successfully.\n"
     ]
    }
   ],
   "source": [
    "import requests\n",
    "import os\n",
    "\n",
    "url = \"https://longtermpublic.blob.core.windows.net/data/NHLData.zip\"\n",
    "extract_directory = \"../Data\"\n",
    "zip_file_path = extract_directory + \"/NHLData.zip\"\n",
    "\n",
    "print(\"Downloading data file...\")\n",
    "\n",
    "# Download the zip file\n",
    "response = requests.get(url)\n",
    "with open(zip_file_path, \"wb\") as file:\n",
    "    file.write(response.content)\n",
    "\n",
    "print(\"Data Zip downloaded successfully.\")"
   ]
  },
  {
   "cell_type": "code",
   "execution_count": 3,
   "metadata": {},
   "outputs": [
    {
     "name": "stdout",
     "output_type": "stream",
     "text": [
      "Extracting data files...\n",
      "Done extracting files\n"
     ]
    }
   ],
   "source": [
    "import zipfile\n",
    "\n",
    "print('Extracting data files...')\n",
    "\n",
    "with zipfile.ZipFile(zip_file_path, 'r') as zip_ref:\n",
    "    zip_ref.extractall(extract_directory)\n",
    "\n",
    "print('Done extracting files')"
   ]
  },
  {
   "cell_type": "markdown",
   "metadata": {},
   "source": [
    "## DataFrames\n",
    "Now that we have our data stored in DataFrames"
   ]
  },
  {
   "cell_type": "code",
   "execution_count": null,
   "metadata": {},
   "outputs": [],
   "source": []
  }
 ],
 "metadata": {
  "kernelspec": {
   "display_name": "base",
   "language": "python",
   "name": "python3"
  },
  "language_info": {
   "codemirror_mode": {
    "name": "ipython",
    "version": 3
   },
   "file_extension": ".py",
   "mimetype": "text/x-python",
   "name": "python",
   "nbconvert_exporter": "python",
   "pygments_lexer": "ipython3",
   "version": "3.11.7"
  }
 },
 "nbformat": 4,
 "nbformat_minor": 2
}
